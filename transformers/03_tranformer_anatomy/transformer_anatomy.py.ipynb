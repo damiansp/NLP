{
 "cells": [
  {
   "cell_type": "code",
   "execution_count": 19,
   "id": "5576665b",
   "metadata": {},
   "outputs": [],
   "source": [
    "from math import sqrt\n",
    "\n",
    "#from bertviz import head_view\n",
    "#from bertviz.transformers_neuron_view import BertModel\n",
    "#from bertviz.neuron_view import show\n",
    "import torch\n",
    "from torch import nn\n",
    "import torch.nn.functional as F\n",
    "from transformers import AutoConfig, AutoModel, AutoTokenizer"
   ]
  },
  {
   "cell_type": "code",
   "execution_count": 2,
   "id": "dc3d04b2",
   "metadata": {},
   "outputs": [],
   "source": [
    "model_ckpt = 'bert-base-uncased'\n",
    "tokenizer = AutoTokenizer.from_pretrained(model_ckpt)\n",
    "#model = BertModel.from_pretrained(model_ckpt)"
   ]
  },
  {
   "cell_type": "code",
   "execution_count": 3,
   "id": "4a5df5ba",
   "metadata": {},
   "outputs": [],
   "source": [
    "text = 'time flies like an arrow'\n",
    "#show(\n",
    "#    model, \n",
    "#    'bert',\n",
    "#    tokenizer,\n",
    "#    text,\n",
    "#    display_mode='light',\n",
    "#    layer=0,\n",
    "#    head=8)"
   ]
  },
  {
   "cell_type": "code",
   "execution_count": 4,
   "id": "67baafbc",
   "metadata": {},
   "outputs": [
    {
     "data": {
      "text/plain": [
       "tensor([[ 2051, 10029,  2066,  2019,  8612]])"
      ]
     },
     "execution_count": 4,
     "metadata": {},
     "output_type": "execute_result"
    }
   ],
   "source": [
    "inputs = tokenizer(text, return_tensors='pt', add_special_tokens=False)\n",
    "inputs.input_ids"
   ]
  },
  {
   "cell_type": "code",
   "execution_count": 5,
   "id": "fa553a15",
   "metadata": {},
   "outputs": [
    {
     "data": {
      "text/plain": [
       "Embedding(30522, 768)"
      ]
     },
     "execution_count": 5,
     "metadata": {},
     "output_type": "execute_result"
    }
   ],
   "source": [
    "config = AutoConfig.from_pretrained(model_ckpt)\n",
    "token_emb = nn.Embedding(config.vocab_size, config.hidden_size)\n",
    "token_emb"
   ]
  },
  {
   "cell_type": "code",
   "execution_count": 6,
   "id": "e470fa8f",
   "metadata": {},
   "outputs": [
    {
     "data": {
      "text/plain": [
       "torch.Size([1, 5, 768])"
      ]
     },
     "execution_count": 6,
     "metadata": {},
     "output_type": "execute_result"
    }
   ],
   "source": [
    "input_embeds = token_emb(inputs.input_ids)\n",
    "input_embeds.size() # one batch of our 5 words in a 768-vector encoding"
   ]
  },
  {
   "cell_type": "code",
   "execution_count": 7,
   "id": "944e8764",
   "metadata": {},
   "outputs": [
    {
     "data": {
      "text/plain": [
       "torch.Size([1, 5, 5])"
      ]
     },
     "execution_count": 7,
     "metadata": {},
     "output_type": "execute_result"
    }
   ],
   "source": [
    "query = key = value = input_embeds\n",
    "dim_k = key.size(-1)\n",
    "scores = torch.bmm(query, key.transpose(1, 2)) / sqrt(dim_k)\n",
    "scores.size()"
   ]
  },
  {
   "cell_type": "code",
   "execution_count": 8,
   "id": "1fafa97b",
   "metadata": {},
   "outputs": [
    {
     "data": {
      "text/plain": [
       "tensor([[[28.5866, -1.1095, -0.8704,  1.4623,  0.8429],\n",
       "         [-1.1095, 25.5054,  0.3590,  2.7437,  0.1270],\n",
       "         [-0.8704,  0.3590, 29.2243,  0.9720, -0.6094],\n",
       "         [ 1.4623,  2.7437,  0.9720, 28.7171,  0.2261],\n",
       "         [ 0.8429,  0.1270, -0.6094,  0.2261, 28.0545]]],\n",
       "       grad_fn=<DivBackward0>)"
      ]
     },
     "execution_count": 8,
     "metadata": {},
     "output_type": "execute_result"
    }
   ],
   "source": [
    "scores"
   ]
  },
  {
   "cell_type": "code",
   "execution_count": 9,
   "id": "93a7a07b",
   "metadata": {},
   "outputs": [
    {
     "data": {
      "text/plain": [
       "tensor([[[1.0000e+00, 1.2680e-13, 1.6106e-13, 1.6598e-12, 8.9342e-13],\n",
       "         [2.7624e-12, 1.0000e+00, 1.1997e-11, 1.3024e-10, 9.5132e-12],\n",
       "         [8.5119e-14, 2.9104e-13, 1.0000e+00, 5.3725e-13, 1.1050e-13],\n",
       "         [1.4568e-12, 5.2473e-12, 8.9225e-13, 1.0000e+00, 4.2318e-13],\n",
       "         [1.5211e-12, 7.4348e-13, 3.5598e-13, 8.2088e-13, 1.0000e+00]]],\n",
       "       grad_fn=<SoftmaxBackward0>)"
      ]
     },
     "execution_count": 9,
     "metadata": {},
     "output_type": "execute_result"
    }
   ],
   "source": [
    "weights = F.softmax(scores, dim=-1)\n",
    "weights"
   ]
  },
  {
   "cell_type": "code",
   "execution_count": 10,
   "id": "71790a20",
   "metadata": {},
   "outputs": [
    {
     "data": {
      "text/plain": [
       "tensor([[1., 1., 1., 1., 1.]], grad_fn=<SumBackward1>)"
      ]
     },
     "execution_count": 10,
     "metadata": {},
     "output_type": "execute_result"
    }
   ],
   "source": [
    "weights.sum(dim=-1)"
   ]
  },
  {
   "cell_type": "code",
   "execution_count": 11,
   "id": "450b310c",
   "metadata": {},
   "outputs": [
    {
     "data": {
      "text/plain": [
       "torch.Size([1, 5, 768])"
      ]
     },
     "execution_count": 11,
     "metadata": {},
     "output_type": "execute_result"
    }
   ],
   "source": [
    "attn_outputs = torch.bmm(weights, value)\n",
    "attn_outputs.shape"
   ]
  },
  {
   "cell_type": "code",
   "execution_count": 12,
   "id": "1e2e2987",
   "metadata": {},
   "outputs": [],
   "source": [
    "# wrap it up\n",
    "def scaled_dot_product_attention(query, key, value):\n",
    "    dim_k = key.size(-1)\n",
    "    scores = torch.bmm(query, key.transpose(1, 2)) / sqrt(dim_k)\n",
    "    weights = F.softmax(scores, dim=-1)\n",
    "    attn = torch.bmm(weights, value)\n",
    "    return attn"
   ]
  },
  {
   "cell_type": "code",
   "execution_count": 13,
   "id": "fbc26182",
   "metadata": {},
   "outputs": [],
   "source": [
    "class AttentionHead(nn.Module):\n",
    "    def __init__(self, embed_dim, head_dim):\n",
    "        super().__init__()\n",
    "        self.q = nn.Linear(embed_dim, head_dim)\n",
    "        self.k = nn.Linear(embed_dim, head_dim)\n",
    "        self.v = nn.Linear(embed_dim, head_dim)\n",
    "        \n",
    "    def forward(self, hidden_state):\n",
    "        attn_outputs = scaled_dot_product_attention(\n",
    "            self.q(hidden_state),\n",
    "            self.k(hidden_state),\n",
    "            self.v(hidden_state))\n",
    "        return attn_outputs"
   ]
  },
  {
   "cell_type": "code",
   "execution_count": 16,
   "id": "34b12d7e",
   "metadata": {},
   "outputs": [],
   "source": [
    "class MultiHeadAttention(nn.Module):\n",
    "    def __init__(self, config):\n",
    "        super().__init__()\n",
    "        embed_dim = config.hidden_size\n",
    "        n_heads = config.num_attention_heads\n",
    "        head_dim = embed_dim // n_heads\n",
    "        self.heads = nn.ModuleList(\n",
    "            [AttentionHead(embed_dim, head_dim) for _ in range(n_heads)]\n",
    "        )\n",
    "        self.output_linear = nn.Linear(embed_dim, embed_dim)\n",
    "        \n",
    "    def forward(self, hidden_state):\n",
    "        x = torch.cat([head(hidden_state) for head in self.heads],\n",
    "                      dim=-1)\n",
    "        x = self.output_linear(x)\n",
    "        return x"
   ]
  },
  {
   "cell_type": "code",
   "execution_count": 18,
   "id": "b244e350",
   "metadata": {},
   "outputs": [
    {
     "data": {
      "text/plain": [
       "torch.Size([1, 5, 768])"
      ]
     },
     "execution_count": 18,
     "metadata": {},
     "output_type": "execute_result"
    }
   ],
   "source": [
    "multihead_attn = MultiHeadAttention(config)\n",
    "attn_output = multihead_attn(input_embeds)\n",
    "attn_output.size() # batch, words, embedding vec"
   ]
  },
  {
   "cell_type": "code",
   "execution_count": 21,
   "id": "02154db5",
   "metadata": {},
   "outputs": [
    {
     "name": "stderr",
     "output_type": "stream",
     "text": [
      "Some weights of the model checkpoint at bert-base-uncased were not used when initializing BertModel: ['cls.predictions.transform.dense.bias', 'cls.seq_relationship.weight', 'cls.predictions.decoder.weight', 'cls.predictions.transform.dense.weight', 'cls.seq_relationship.bias', 'cls.predictions.transform.LayerNorm.bias', 'cls.predictions.bias', 'cls.predictions.transform.LayerNorm.weight']\n",
      "- This IS expected if you are initializing BertModel from the checkpoint of a model trained on another task or with another architecture (e.g. initializing a BertForSequenceClassification model from a BertForPreTraining model).\n",
      "- This IS NOT expected if you are initializing BertModel from the checkpoint of a model that you expect to be exactly identical (initializing a BertForSequenceClassification model from a BertForSequenceClassification model).\n"
     ]
    }
   ],
   "source": [
    "mod = AutoModel.from_pretrained(model_ckpt, output_attentions=True)"
   ]
  },
  {
   "cell_type": "code",
   "execution_count": 22,
   "id": "85f34af6",
   "metadata": {},
   "outputs": [],
   "source": [
    "sent_a = 'time flies like an arrow'\n",
    "sent_b = 'fruit flies like a banana'\n",
    "\n",
    "viz_inputs = tokenizer(sent_a, sent_b, return_tensors='pt')\n",
    "attention = mod(**viz_inputs).attentions\n",
    "sent_b_start = (viz_inputs.token_type_ids == 0).sum(dim=1)\n",
    "tokens = tokenizer.convert_ids_to_tokens(viz_inputs.input_ids[0])"
   ]
  },
  {
   "cell_type": "code",
   "execution_count": 23,
   "id": "f3824a9a",
   "metadata": {},
   "outputs": [],
   "source": [
    "#head_view(attention, tokens, sent_b_start, heads=[8])"
   ]
  },
  {
   "cell_type": "code",
   "execution_count": 24,
   "id": "0d283b92",
   "metadata": {},
   "outputs": [],
   "source": [
    "class FeedForward(nn.Module):\n",
    "    def __init__(self, config):\n",
    "        super().__init__()\n",
    "        self.lin1 = nn.Linear(config.hidden_size,\n",
    "                              config.intermediate_size)\n",
    "        self.lin2 = nn.Linear(config.intermediate_size,\n",
    "                              config.hidden_size)\n",
    "        self.gelu = nn.GELU()\n",
    "        self.dropout = nn.Dropout(config.hidden_dropout_prob)\n",
    "        \n",
    "    def forward(self, x):\n",
    "        x = self.lin1(x)\n",
    "        x = self.gelu(x)\n",
    "        x = self.lin2(x)\n",
    "        x = self.dropout(x)\n",
    "        return x"
   ]
  },
  {
   "cell_type": "code",
   "execution_count": 25,
   "id": "181f4912",
   "metadata": {},
   "outputs": [
    {
     "data": {
      "text/plain": [
       "torch.Size([1, 5, 768])"
      ]
     },
     "execution_count": 25,
     "metadata": {},
     "output_type": "execute_result"
    }
   ],
   "source": [
    "ff = FeedForward(config)\n",
    "ff_outputs = ff(attn_outputs)\n",
    "ff_outputs.size()"
   ]
  },
  {
   "cell_type": "code",
   "execution_count": null,
   "id": "c4769c36",
   "metadata": {},
   "outputs": [],
   "source": []
  }
 ],
 "metadata": {
  "kernelspec": {
   "display_name": "Python 3 (ipykernel)",
   "language": "python",
   "name": "python3"
  },
  "language_info": {
   "codemirror_mode": {
    "name": "ipython",
    "version": 3
   },
   "file_extension": ".py",
   "mimetype": "text/x-python",
   "name": "python",
   "nbconvert_exporter": "python",
   "pygments_lexer": "ipython3",
   "version": "3.9.7"
  }
 },
 "nbformat": 4,
 "nbformat_minor": 5
}
