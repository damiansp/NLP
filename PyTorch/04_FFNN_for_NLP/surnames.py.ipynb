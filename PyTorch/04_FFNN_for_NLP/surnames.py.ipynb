{
 "cells": [
  {
   "cell_type": "code",
   "execution_count": 27,
   "metadata": {},
   "outputs": [],
   "source": [
    "from argparse import Namespace\n",
    "\n",
    "import torch\n",
    "import torch.nn as nn\n",
    "import torch.nn.functional as F\n",
    "from torch.utils.data import Dataset"
   ]
  },
  {
   "cell_type": "code",
   "execution_count": 2,
   "metadata": {},
   "outputs": [],
   "source": [
    "class MultilayerPerceptron(nn.Module):\n",
    "    def __init__(self, input_dim, hidden_dim, output_dim):\n",
    "        '''                                                                      \n",
    "        Args:                                                                    \n",
    "          input_dim, hidden_dim, output_dim (int): number of perceptrons in \n",
    "            each layer (only one hidden layer).                                       \n",
    "        '''\n",
    "        super(MultilayerPerceptron, self).__init__()\n",
    "        self.fc1 = nn.Linear(input_dim, hidden_dim)\n",
    "        self.fc2 = nn.Linear(hidden_dim, output_dim)\n",
    "\n",
    "    def forward(self, x_in, apply_softmax=False):\n",
    "        '''                                                                      \n",
    "        Forward Pass                                                             \n",
    "        Args:                                                                    \n",
    "          x_in: (torch.Tensor): input tensor, .shape should be                   \n",
    "            (batch, input_dim)                                                   \n",
    "          apply_softmax (bool): apply softmax? F if used with x-entropy          \n",
    "        Returns:                                                                 \n",
    "          tensor with shape (batch, output_dim)                                  \n",
    "        '''\n",
    "        intermediate = F.relu(self.fc1(x_in))\n",
    "        output = self.fc2(intermediate)\n",
    "        if apply_softmax:\n",
    "            output = F.softmax(output, dim=1)\n",
    "        return output"
   ]
  },
  {
   "cell_type": "code",
   "execution_count": 3,
   "metadata": {},
   "outputs": [
    {
     "name": "stdout",
     "output_type": "stream",
     "text": [
      "MultilayerPerceptron(\n",
      "  (fc1): Linear(in_features=3, out_features=100, bias=True)\n",
      "  (fc2): Linear(in_features=100, out_features=4, bias=True)\n",
      ")\n"
     ]
    }
   ],
   "source": [
    "BATCH = 2\n",
    "INPUT = 3\n",
    "HIDDEN = 100\n",
    "OUTPUT = 4\n",
    "\n",
    "mlp = MultilayerPerceptron(INPUT, HIDDEN, OUTPUT)\n",
    "print(mlp)"
   ]
  },
  {
   "cell_type": "code",
   "execution_count": 4,
   "metadata": {},
   "outputs": [],
   "source": [
    "def describe(x):\n",
    "    print(f'Type: {x.type()}')\n",
    "    print(f'Shape: {x.shape}')\n",
    "    print(f'Values:\\n{x}')"
   ]
  },
  {
   "cell_type": "code",
   "execution_count": 5,
   "metadata": {},
   "outputs": [
    {
     "name": "stdout",
     "output_type": "stream",
     "text": [
      "Type: torch.FloatTensor\n",
      "Shape: torch.Size([2, 3])\n",
      "Values:\n",
      "tensor([[0.4828, 0.5813, 0.1405],\n",
      "        [0.1064, 0.2033, 0.3411]])\n"
     ]
    }
   ],
   "source": [
    "x_input = torch.rand(BATCH, INPUT)\n",
    "describe(x_input)"
   ]
  },
  {
   "cell_type": "code",
   "execution_count": 6,
   "metadata": {},
   "outputs": [
    {
     "name": "stdout",
     "output_type": "stream",
     "text": [
      "Type: torch.FloatTensor\n",
      "Shape: torch.Size([2, 4])\n",
      "Values:\n",
      "tensor([[ 0.0281,  0.1006, -0.2076, -0.2045],\n",
      "        [-0.0256,  0.0311, -0.2647, -0.1446]], grad_fn=<ThAddmmBackward>)\n"
     ]
    }
   ],
   "source": [
    "y_output = mlp(x_input, apply_softmax=False)\n",
    "describe(y_output)"
   ]
  },
  {
   "cell_type": "code",
   "execution_count": 7,
   "metadata": {},
   "outputs": [
    {
     "name": "stdout",
     "output_type": "stream",
     "text": [
      "Type: torch.FloatTensor\n",
      "Shape: torch.Size([2, 4])\n",
      "Values:\n",
      "tensor([[0.2734, 0.2940, 0.2160, 0.2167],\n",
      "        [0.2679, 0.2835, 0.2109, 0.2378]], grad_fn=<SoftmaxBackward>)\n"
     ]
    }
   ],
   "source": [
    "y_output = mlp(x_input, apply_softmax=True)\n",
    "describe(y_output)"
   ]
  },
  {
   "cell_type": "code",
   "execution_count": 8,
   "metadata": {},
   "outputs": [
    {
     "data": {
      "text/plain": [
       "tensor(2., grad_fn=<SumBackward0>)"
      ]
     },
     "execution_count": 8,
     "metadata": {},
     "output_type": "execute_result"
    }
   ],
   "source": [
    "y_output.sum()"
   ]
  },
  {
   "cell_type": "code",
   "execution_count": 9,
   "metadata": {},
   "outputs": [],
   "source": [
    "class SurnameDataset(Dataset):\n",
    "    def __getitem__(self, idx):\n",
    "        row = self._target_df.iloc[idx]\n",
    "        surname_vector = self._vectorizer.vectorize(row.surname)\n",
    "        nationality_idx = self._vectorizer.nationality_vocab.lookup_token(\n",
    "            row.nationality)\n",
    "        return {'x_surname': surname_vector, \n",
    "                'y_nationality': nationality_idx}"
   ]
  },
  {
   "cell_type": "code",
   "execution_count": 10,
   "metadata": {},
   "outputs": [],
   "source": [
    "class Vocabulary(object):\n",
    "    '''Class to process text and extract Vocabulary for mapping'''\n",
    "    def __init__(self, token_to_idx=None, add_unk=True, unk_token='<UNK>'):\n",
    "        '''\n",
    "        Args:\n",
    "          token_to_idx (dict): a pre-existing map of tokens to indices \n",
    "          add_unk (bool): flag indicating whether to add the UNK token\n",
    "          unk_token (str): the UNK token to add to the Vocabulary\n",
    "        '''\n",
    "        if token_to_idx is None:\n",
    "            token_to_idx = {}\n",
    "        self._token_to_idx = token_to_idx\n",
    "        self._idx_to_token = {idx: token \n",
    "                              for token, idx in self._token_to_idx.items()}\n",
    "        self._add_unk = add_unk\n",
    "        self._unk_token = unk_token\n",
    "        self.unk_index = -1\n",
    "        if add_unk:\n",
    "            self.unk_index = self.add_token(unk_token)\n",
    "            \n",
    "    def to_serializable(self):\n",
    "        '''Returns a dict that can be serialized'''\n",
    "        return {'token_to_idx': self._token_to_idx,\n",
    "                'add_unk': self._add_unk,\n",
    "                'unk_token': self._unk_token}\n",
    "    \n",
    "    @classmethod\n",
    "    def from_serializable(cls, contents):\n",
    "        '''Instantiates the Vocabulary from a serialized dict'''\n",
    "        return cls(**contents)\n",
    "    \n",
    "    def add_token(self, token):\n",
    "        '''\n",
    "        Update mapping dicts base on the token\n",
    "        Args:\n",
    "          token (str): the item to add to the Vocabulary\n",
    "        Returns:\n",
    "          index (int): the int corresponding to the token\n",
    "        '''\n",
    "        if token in self._token_to_idx:\n",
    "            index = self._token_to_idx[token]\n",
    "        else:\n",
    "            index = len(self._token_to_idx)\n",
    "            self._token_to_idx[token] = index\n",
    "            self._idx_to_token[index] = token\n",
    "        return index\n",
    "    \n",
    "    def lookup_token(self, token):\n",
    "        '''\n",
    "        Retrieve the index associated with the token or the UNK index if\n",
    "        token not present\n",
    "        Args:\n",
    "          token (str): the token to look up\n",
    "        Returns:\n",
    "          index (int): the index corresponding to the token\n",
    "        Notes:\n",
    "          <unk_index> must be >= 0 (having been added into the Vocabulary)\n",
    "          for UNK functionality\n",
    "        '''\n",
    "        if self.add_unk:\n",
    "            return self._token_to_idx.get(token, self.unk_index)\n",
    "        return self._token_to_idx[token]\n",
    "    \n",
    "    def lookup_index(self, index):\n",
    "        '''\n",
    "        Return the token associated with the index\n",
    "        Args:\n",
    "          index (int): the index to look up\n",
    "        Returns:\n",
    "          token (str): the token corresponding to the index\n",
    "        Raises:\n",
    "          KeyError: if index not in Vocabulary\n",
    "        '''\n",
    "        if index not in self._idx_to_token:\n",
    "            raise KeyError(f'the index {index} is not in the Vocabulary')\n",
    "        return self._idx_to_token[index]\n",
    "    \n",
    "    def __str__(self):\n",
    "        return f'<Vocabulary(size={len(self)})>'\n",
    "    \n",
    "    def __len__(self):\n",
    "        return len(self._token_to_idx)"
   ]
  },
  {
   "cell_type": "code",
   "execution_count": 11,
   "metadata": {},
   "outputs": [],
   "source": [
    "class SurnameVectorizer(object):\n",
    "    '''\n",
    "    The Vectorizer which coordinates the Vocabularies and puts them to use\n",
    "    '''\n",
    "    def __init__(self, surname_vocab, nationality_vocab):\n",
    "        self.surname_vocab = surname_vocab\n",
    "        self.nationality_vocab = nationaility_vocab\n",
    "        \n",
    "    def vectorize(self, surname):\n",
    "        '''\n",
    "        Vectorize the provided surname\n",
    "        Args:\n",
    "          surname (str): surname\n",
    "        Returns:\n",
    "          one_hot (np.ndarray): a collapsed one-hot encoding\n",
    "        '''\n",
    "        vocab = self.surname_vocab\n",
    "        one_hot = np.zeros(len(vocab), dtype=np.float32)\n",
    "        for token in surname:\n",
    "            one_hot[vocab.lookup_token(token)] = 1\n",
    "        return one_hot\n",
    "    \n",
    "    @classmethod\n",
    "    def from_dataframe(cls, surname_df):\n",
    "        '''\n",
    "        Instantiate the vectorizer from the data set DataFrame\n",
    "        Args:\n",
    "          surname_df (pandas.DataFrame): surnames data set\n",
    "        Returns:\n",
    "          instance of the SurnameVectorizer\n",
    "        '''\n",
    "        surname_vocab = Vocabulary(unk_token='@')\n",
    "        nationality_vocab = Vocabulary(add_unk=False)\n",
    "        for index, row in surname_df.iterrows():\n",
    "            for letter in row.surname:\n",
    "                surname_vocab.add_token(letter)\n",
    "            nationality_vocab.add_token(row.nationality)\n",
    "        return cls(surname_vocab, nationality_vocab)"
   ]
  },
  {
   "cell_type": "code",
   "execution_count": 12,
   "metadata": {},
   "outputs": [],
   "source": [
    "class SurnameClassifier(nn.Module):\n",
    "    '''A 2-layer multilayer perceptron for classifying surnames'''\n",
    "    def __init__(self, input_dim, hidden_dim, output_dim):\n",
    "        '''\n",
    "        Args:\n",
    "          input_dim (int): size of input vectors\n",
    "          hiddden_dim (int): output size of first Linear layer\n",
    "          output_dim (int): output size of second Linear layer\n",
    "        '''\n",
    "        super(SurnameClassifier, self).__init__()\n",
    "        self.fc1 = nn.Linear(input_dim, hidden_dim)\n",
    "        self.fc2 = nn.Linear(hiddent_dim, output_dim)\n",
    "        \n",
    "    def forward(self, x_in, apply_softmax=False):\n",
    "        '''\n",
    "        The forward pass\n",
    "        Args:\n",
    "          x_in (torch.Tensor): an input data tensor (batch, input_dim)\n",
    "          apply_softmax (bool): should be False if used with the cross-\n",
    "            entropy losses\n",
    "        Returns:\n",
    "          the resulting tensor (batch, output_dim)\n",
    "        '''\n",
    "        intermediate_vector = F.relu(self.fc1(x_in))\n",
    "        prediction_vector = self.fc2(intermediate_vector)\n",
    "        if apply_softmax:\n",
    "            prediction_vector = F.softmax(prediction_vector, dim=1)\n",
    "        return prediction_vector\n",
    "            "
   ]
  },
  {
   "cell_type": "code",
   "execution_count": 18,
   "metadata": {},
   "outputs": [],
   "source": [
    "DATA_DIR = '../../data/surnames'"
   ]
  },
  {
   "cell_type": "code",
   "execution_count": 20,
   "metadata": {},
   "outputs": [
    {
     "name": "stdout",
     "output_type": "stream",
     "text": [
      "surnames.csv              surnames_with_splits.csv\r\n"
     ]
    }
   ],
   "source": [
    "ls ../../data/surnames/"
   ]
  },
  {
   "cell_type": "code",
   "execution_count": 28,
   "metadata": {},
   "outputs": [],
   "source": [
    "args = Namespace(\n",
    "    # Data and path info\n",
    "    suname_csv = f'{DATA_DIR}/surnames_with_splits.csv',\n",
    "    vectorizer_file = 'vectorizer.json',\n",
    "    model_state_file = 'model.pth',\n",
    "    save_dir = 'model_storage/surname_mlp',\n",
    "    \n",
    "    # Model hyperparams\n",
    "    seed = 12345,\n",
    "    epochs = 100,\n",
    "    early_stopping_criteria = 5,\n",
    "    learning_rate = 0.001,\n",
    "    batch = 64\n",
    "    \n",
    "    # Additional runtime options...\n",
    ")"
   ]
  },
  {
   "cell_type": "code",
   "execution_count": null,
   "metadata": {},
   "outputs": [],
   "source": []
  }
 ],
 "metadata": {
  "kernelspec": {
   "display_name": "Python 3",
   "language": "python",
   "name": "python3"
  },
  "language_info": {
   "codemirror_mode": {
    "name": "ipython",
    "version": 3
   },
   "file_extension": ".py",
   "mimetype": "text/x-python",
   "name": "python",
   "nbconvert_exporter": "python",
   "pygments_lexer": "ipython3",
   "version": "3.6.5"
  }
 },
 "nbformat": 4,
 "nbformat_minor": 2
}
