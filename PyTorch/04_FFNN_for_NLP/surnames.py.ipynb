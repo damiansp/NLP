{
 "cells": [
  {
   "cell_type": "code",
   "execution_count": 14,
   "metadata": {},
   "outputs": [],
   "source": [
    "import torch\n",
    "import torch.nn as nn\n",
    "import torch.nn.functional as F\n",
    "from torch.utils.data import Dataset"
   ]
  },
  {
   "cell_type": "code",
   "execution_count": 2,
   "metadata": {},
   "outputs": [],
   "source": [
    "class MultilayerPerceptron(nn.Module):\n",
    "    def __init__(self, input_dim, hidden_dim, output_dim):\n",
    "        '''                                                                      \n",
    "        Args:                                                                    \n",
    "          input_dim, hidden_dim, output_dim (int): number of perceptrons in \n",
    "            each layer (only one hidden layer).                                       \n",
    "        '''\n",
    "        super(MultilayerPerceptron, self).__init__()\n",
    "        self.fc1 = nn.Linear(input_dim, hidden_dim)\n",
    "        self.fc2 = nn.Linear(hidden_dim, output_dim)\n",
    "\n",
    "    def forward(self, x_in, apply_softmax=False):\n",
    "        '''                                                                      \n",
    "        Forward Pass                                                             \n",
    "        Args:                                                                    \n",
    "          x_in: (torch.Tensor): input tensor, .shape should be                   \n",
    "            (batch, input_dim)                                                   \n",
    "          apply_softmax (bool): apply softmax? F if used with x-entropy          \n",
    "        Returns:                                                                 \n",
    "          tensor with shape (batch, output_dim)                                  \n",
    "        '''\n",
    "        intermediate = F.relu(self.fc1(x_in))\n",
    "        output = self.fc2(intermediate)\n",
    "        if apply_softmax:\n",
    "            output = F.softmax(output, dim=1)\n",
    "        return output"
   ]
  },
  {
   "cell_type": "code",
   "execution_count": 3,
   "metadata": {},
   "outputs": [
    {
     "name": "stdout",
     "output_type": "stream",
     "text": [
      "MultilayerPerceptron(\n",
      "  (fc1): Linear(in_features=3, out_features=100, bias=True)\n",
      "  (fc2): Linear(in_features=100, out_features=4, bias=True)\n",
      ")\n"
     ]
    }
   ],
   "source": [
    "BATCH = 2\n",
    "INPUT = 3\n",
    "HIDDEN = 100\n",
    "OUTPUT = 4\n",
    "\n",
    "mlp = MultilayerPerceptron(INPUT, HIDDEN, OUTPUT)\n",
    "print(mlp)"
   ]
  },
  {
   "cell_type": "code",
   "execution_count": 6,
   "metadata": {},
   "outputs": [],
   "source": [
    "def describe(x):\n",
    "    print(f'Type: {x.type()}')\n",
    "    print(f'Shape: {x.shape}')\n",
    "    print(f'Values:\\n{x}')"
   ]
  },
  {
   "cell_type": "code",
   "execution_count": 9,
   "metadata": {},
   "outputs": [
    {
     "name": "stdout",
     "output_type": "stream",
     "text": [
      "Type: torch.FloatTensor\n",
      "Shape: torch.Size([2, 3])\n",
      "Values:\n",
      "tensor([[0.6213, 0.5737, 0.4899],\n",
      "        [0.2528, 0.3296, 0.7179]])\n"
     ]
    }
   ],
   "source": [
    "x_input = torch.rand(BATCH, INPUT)\n",
    "describe(x_input)"
   ]
  },
  {
   "cell_type": "code",
   "execution_count": 10,
   "metadata": {},
   "outputs": [
    {
     "name": "stdout",
     "output_type": "stream",
     "text": [
      "Type: torch.FloatTensor\n",
      "Shape: torch.Size([2, 4])\n",
      "Values:\n",
      "tensor([[ 0.0587, -0.1002, -0.0899,  0.1464],\n",
      "        [ 0.0337, -0.1321,  0.0457,  0.0584]], grad_fn=<ThAddmmBackward>)\n"
     ]
    }
   ],
   "source": [
    "y_output = mlp(x_input, apply_softmax=False)\n",
    "describe(y_output)"
   ]
  },
  {
   "cell_type": "code",
   "execution_count": 11,
   "metadata": {},
   "outputs": [
    {
     "name": "stdout",
     "output_type": "stream",
     "text": [
      "Type: torch.FloatTensor\n",
      "Shape: torch.Size([2, 4])\n",
      "Values:\n",
      "tensor([[0.2627, 0.2241, 0.2264, 0.2868],\n",
      "        [0.2575, 0.2181, 0.2606, 0.2639]], grad_fn=<SoftmaxBackward>)\n"
     ]
    }
   ],
   "source": [
    "y_output = mlp(x_input, apply_softmax=True)\n",
    "describe(y_output)"
   ]
  },
  {
   "cell_type": "code",
   "execution_count": 12,
   "metadata": {},
   "outputs": [
    {
     "data": {
      "text/plain": [
       "tensor(2., grad_fn=<SumBackward0>)"
      ]
     },
     "execution_count": 12,
     "metadata": {},
     "output_type": "execute_result"
    }
   ],
   "source": [
    "y_output.sum()"
   ]
  },
  {
   "cell_type": "code",
   "execution_count": 15,
   "metadata": {},
   "outputs": [],
   "source": [
    "class SurnameDataset(Dataset):\n",
    "    def __getitem__(self, idx):\n",
    "        row = self._target_df.iloc[idx]\n",
    "        surname_vector = self._vectorizer.vectorize(row.surname)\n",
    "        nationality_idx = self._vectorizer.nationality_vocab.lookup_token(\n",
    "            row.nationality)\n",
    "        return {'x_surname': surname_vector, \n",
    "                'y_nationality': nationality_idx}"
   ]
  },
  {
   "cell_type": "code",
   "execution_count": null,
   "metadata": {},
   "outputs": [],
   "source": []
  }
 ],
 "metadata": {
  "kernelspec": {
   "display_name": "Python 3",
   "language": "python",
   "name": "python3"
  },
  "language_info": {
   "codemirror_mode": {
    "name": "ipython",
    "version": 3
   },
   "file_extension": ".py",
   "mimetype": "text/x-python",
   "name": "python",
   "nbconvert_exporter": "python",
   "pygments_lexer": "ipython3",
   "version": "3.6.5"
  }
 },
 "nbformat": 4,
 "nbformat_minor": 2
}
