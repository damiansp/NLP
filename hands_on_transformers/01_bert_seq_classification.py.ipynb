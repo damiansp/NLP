{
 "cells": [
  {
   "cell_type": "code",
   "execution_count": 37,
   "id": "136bbe3c",
   "metadata": {},
   "outputs": [],
   "source": [
    "from functools import reduce\n",
    "\n",
    "from datasets import Dataset\n",
    "import evaluate\n",
    "import numpy as np\n",
    "from transformers import (\n",
    "    DataCollatorWithPadding, DistilBertForSequenceClassification,\n",
    "    DistilBertTokenizerFast, pipeline, Trainer, TrainingArguments)"
   ]
  },
  {
   "cell_type": "code",
   "execution_count": 8,
   "id": "8ba93907",
   "metadata": {},
   "outputs": [
    {
     "data": {
      "text/plain": [
       "[b'listen O\\r\\n',\n",
       " b'to O\\r\\n',\n",
       " b'westbam B-artist\\r\\n',\n",
       " b'alumb O\\r\\n',\n",
       " b'allergic B-album\\r\\n',\n",
       " b'on O\\r\\n',\n",
       " b'google B-service\\r\\n',\n",
       " b'music I-service\\r\\n',\n",
       " b'PlayMusic\\r\\n',\n",
       " b'\\r\\n',\n",
       " b'add O\\r\\n',\n",
       " b'step B-entity_name\\r\\n',\n",
       " b'to I-entity_name\\r\\n',\n",
       " b'me I-entity_name\\r\\n',\n",
       " b'to O\\r\\n',\n",
       " b'the O\\r\\n',\n",
       " b'50 B-playlist\\r\\n',\n",
       " b'cl\\xc3\\xa1sicos I-playlist\\r\\n',\n",
       " b'playlist O\\r\\n',\n",
       " b'AddToPlaylist\\r\\n']"
      ]
     },
     "execution_count": 8,
     "metadata": {},
     "output_type": "execute_result"
    }
   ],
   "source": [
    "with open('./data/snips.train.txt', 'rb') as f:\n",
    "    snips = f.readlines()\n",
    "    \n",
    "snips[:20]"
   ]
  },
  {
   "cell_type": "code",
   "execution_count": 18,
   "id": "3197eabc",
   "metadata": {},
   "outputs": [],
   "source": [
    "def parsnips(snips):\n",
    "    utters = []\n",
    "    tok_utters = []\n",
    "    labs_for_toks = []\n",
    "    seq_labs = []\n",
    "    tok_utter = []\n",
    "    lab_for_utters = []\n",
    "    utter = ''\n",
    "    for row in snips:\n",
    "        if len(row) <= 2: \n",
    "            continue  # skip rows w no data\n",
    "        row = row.decode()\n",
    "        if ' ' not in row:  # seq label\n",
    "            seq_labs.append(row.strip())\n",
    "            utters.append(utter.strip())\n",
    "            tok_utters.append(tok_utter)\n",
    "            labs_for_toks.append(lab_for_utters)\n",
    "            utter = ''\n",
    "            tok_utter = []\n",
    "            lab_for_utter = []\n",
    "            continue\n",
    "        tok, tok_lab = row.split()\n",
    "        tok_lab = tok_lab.strip()\n",
    "        utter += f'{tok} '\n",
    "        tok_utter.append(tok)\n",
    "        lab_for_utters.append(tok_lab)\n",
    "    return labs_for_toks, tok_utters, utters, seq_labs"
   ]
  },
  {
   "cell_type": "code",
   "execution_count": 31,
   "id": "4c6be7ea",
   "metadata": {},
   "outputs": [
    {
     "data": {
      "text/plain": [
       "(13084, 13084, 13084, 13084)"
      ]
     },
     "execution_count": 31,
     "metadata": {},
     "output_type": "execute_result"
    }
   ],
   "source": [
    "(labs_for_toks,\n",
    " tok_utters,\n",
    " utters,\n",
    " seq_labs) = parsnips(snips)\n",
    "\n",
    "(len(labs_for_toks),\n",
    " len(tok_utters),\n",
    " len(utters),\n",
    " len(seq_labs))"
   ]
  },
  {
   "cell_type": "code",
   "execution_count": 32,
   "id": "4b85db8c",
   "metadata": {},
   "outputs": [
    {
     "name": "stdout",
     "output_type": "stream",
     "text": [
      "- \"listen to westbam alumb allergic on google music\" : PlayMusic\n",
      "- \"add step to me to the 50 clásicos playlist\" : AddToPlaylist\n",
      "- \"i give this current textbook a rating value of 1 and a best rating of 6\" : RateBook\n",
      "- \"play the song little robin redbreast\" : PlayMusic\n",
      "- \"please add iris dement to my playlist this is selena\" : AddToPlaylist\n"
     ]
    }
   ],
   "source": [
    "for i in range(5):\n",
    "    print(f'- \"{utters[i]}\" : {seq_labs[i]}')"
   ]
  },
  {
   "cell_type": "code",
   "execution_count": 25,
   "id": "f49c3ad0",
   "metadata": {},
   "outputs": [
    {
     "data": {
      "application/json": {
       "ascii": false,
       "bar_format": null,
       "colour": null,
       "elapsed": 0.014590263366699219,
       "initial": 0,
       "n": 0,
       "ncols": null,
       "nrows": 76,
       "postfix": null,
       "prefix": "Downloading (…)okenizer_config.json",
       "rate": null,
       "total": 29,
       "unit": "B",
       "unit_divisor": 1000,
       "unit_scale": true
      },
      "application/vnd.jupyter.widget-view+json": {
       "model_id": "c5e64428358d4fe69e29d45edd1eaca1",
       "version_major": 2,
       "version_minor": 0
      },
      "text/plain": [
       "Downloading (…)okenizer_config.json:   0%|          | 0.00/29.0 [00:00<?, ?B/s]"
      ]
     },
     "metadata": {},
     "output_type": "display_data"
    },
    {
     "data": {
      "application/json": {
       "ascii": false,
       "bar_format": null,
       "colour": null,
       "elapsed": 0.008723020553588867,
       "initial": 0,
       "n": 0,
       "ncols": null,
       "nrows": 76,
       "postfix": null,
       "prefix": "Downloading (…)solve/main/vocab.txt",
       "rate": null,
       "total": 213450,
       "unit": "B",
       "unit_divisor": 1000,
       "unit_scale": true
      },
      "application/vnd.jupyter.widget-view+json": {
       "model_id": "35aeca8306a344578040f11fab852c16",
       "version_major": 2,
       "version_minor": 0
      },
      "text/plain": [
       "Downloading (…)solve/main/vocab.txt:   0%|          | 0.00/213k [00:00<?, ?B/s]"
      ]
     },
     "metadata": {},
     "output_type": "display_data"
    },
    {
     "data": {
      "application/json": {
       "ascii": false,
       "bar_format": null,
       "colour": null,
       "elapsed": 0.009431600570678711,
       "initial": 0,
       "n": 0,
       "ncols": null,
       "nrows": 76,
       "postfix": null,
       "prefix": "Downloading (…)/main/tokenizer.json",
       "rate": null,
       "total": 435797,
       "unit": "B",
       "unit_divisor": 1000,
       "unit_scale": true
      },
      "application/vnd.jupyter.widget-view+json": {
       "model_id": "9e6343cfee4043eb94f2606043b8aedf",
       "version_major": 2,
       "version_minor": 0
      },
      "text/plain": [
       "Downloading (…)/main/tokenizer.json:   0%|          | 0.00/436k [00:00<?, ?B/s]"
      ]
     },
     "metadata": {},
     "output_type": "display_data"
    },
    {
     "data": {
      "application/json": {
       "ascii": false,
       "bar_format": null,
       "colour": null,
       "elapsed": 0.009356975555419922,
       "initial": 0,
       "n": 0,
       "ncols": null,
       "nrows": 76,
       "postfix": null,
       "prefix": "Downloading (…)lve/main/config.json",
       "rate": null,
       "total": 411,
       "unit": "B",
       "unit_divisor": 1000,
       "unit_scale": true
      },
      "application/vnd.jupyter.widget-view+json": {
       "model_id": "cc5eaff52fe1491cabb3d610daeba090",
       "version_major": 2,
       "version_minor": 0
      },
      "text/plain": [
       "Downloading (…)lve/main/config.json:   0%|          | 0.00/411 [00:00<?, ?B/s]"
      ]
     },
     "metadata": {},
     "output_type": "display_data"
    }
   ],
   "source": [
    "tokenizer = DistilBertTokenizerFast.from_pretrained(\n",
    "    'distilbert-base-cased')"
   ]
  },
  {
   "cell_type": "code",
   "execution_count": 33,
   "id": "83f7c92a",
   "metadata": {},
   "outputs": [
    {
     "data": {
      "text/plain": [
       "['AddToPlaylist',\n",
       " 'BookRestaurant',\n",
       " 'GetWeather',\n",
       " 'PlayMusic',\n",
       " 'RateBook',\n",
       " 'SearchCreativeWork',\n",
       " 'SearchScreeningEvent']"
      ]
     },
     "execution_count": 33,
     "metadata": {},
     "output_type": "execute_result"
    }
   ],
   "source": [
    "unique_seq_labs = sorted(list(set(seq_labs)))\n",
    "unique_seq_labs"
   ]
  },
  {
   "cell_type": "code",
   "execution_count": 34,
   "id": "d0c059c5",
   "metadata": {},
   "outputs": [],
   "source": [
    "seq_labs = [unique_seq_labs.index(lab) for lab in seq_labs]"
   ]
  },
  {
   "cell_type": "code",
   "execution_count": 38,
   "id": "58646cca",
   "metadata": {},
   "outputs": [
    {
     "ename": "KeyboardInterrupt",
     "evalue": "",
     "output_type": "error",
     "traceback": [
      "\u001b[0;31m---------------------------------------------------------------------------\u001b[0m",
      "\u001b[0;31mKeyboardInterrupt\u001b[0m                         Traceback (most recent call last)",
      "Cell \u001b[0;32mIn[38], line 2\u001b[0m\n\u001b[1;32m      1\u001b[0m unique_tok_labs \u001b[38;5;241m=\u001b[39m \u001b[38;5;28msorted\u001b[39m(\n\u001b[0;32m----> 2\u001b[0m     \u001b[38;5;28mlist\u001b[39m(\u001b[38;5;28mset\u001b[39m(\u001b[43mreduce\u001b[49m\u001b[43m(\u001b[49m\u001b[38;5;28;43;01mlambda\u001b[39;49;00m\u001b[43m \u001b[49m\u001b[43mx\u001b[49m\u001b[43m,\u001b[49m\u001b[43m \u001b[49m\u001b[43my\u001b[49m\u001b[43m:\u001b[49m\u001b[43m \u001b[49m\u001b[43mx\u001b[49m\u001b[43m \u001b[49m\u001b[38;5;241;43m+\u001b[39;49m\u001b[43m \u001b[49m\u001b[43my\u001b[49m\u001b[43m,\u001b[49m\u001b[43m \u001b[49m\u001b[43mlabs_for_toks\u001b[49m\u001b[43m)\u001b[49m)))\n\u001b[1;32m      3\u001b[0m labs_for_toks \u001b[38;5;241m=\u001b[39m [\n\u001b[1;32m      4\u001b[0m     [unique_tok_lab\u001b[38;5;241m.\u001b[39mindex(_) \u001b[38;5;28;01mfor\u001b[39;00m _ \u001b[38;5;129;01min\u001b[39;00m lab] \u001b[38;5;28;01mfor\u001b[39;00m lab \u001b[38;5;129;01min\u001b[39;00m labs_for_toks]\n",
      "Cell \u001b[0;32mIn[38], line 2\u001b[0m, in \u001b[0;36m<lambda>\u001b[0;34m(x, y)\u001b[0m\n\u001b[1;32m      1\u001b[0m unique_tok_labs \u001b[38;5;241m=\u001b[39m \u001b[38;5;28msorted\u001b[39m(\n\u001b[0;32m----> 2\u001b[0m     \u001b[38;5;28mlist\u001b[39m(\u001b[38;5;28mset\u001b[39m(reduce(\u001b[38;5;28;01mlambda\u001b[39;00m x, y: x \u001b[38;5;241m+\u001b[39m y, labs_for_toks))))\n\u001b[1;32m      3\u001b[0m labs_for_toks \u001b[38;5;241m=\u001b[39m [\n\u001b[1;32m      4\u001b[0m     [unique_tok_lab\u001b[38;5;241m.\u001b[39mindex(_) \u001b[38;5;28;01mfor\u001b[39;00m _ \u001b[38;5;129;01min\u001b[39;00m lab] \u001b[38;5;28;01mfor\u001b[39;00m lab \u001b[38;5;129;01min\u001b[39;00m labs_for_toks]\n",
      "\u001b[0;31mKeyboardInterrupt\u001b[0m: "
     ]
    }
   ],
   "source": [
    "unique_tok_labs = sorted(\n",
    "    list(set(reduce(lambda x, y: x + y, labs_for_toks))))\n",
    "labs_for_toks = [\n",
    "    [unique_tok_lab.index(_) for _ in lab] for lab in labs_for_toks]"
   ]
  },
  {
   "cell_type": "code",
   "execution_count": null,
   "id": "cf094024",
   "metadata": {},
   "outputs": [],
   "source": [
    "len(unique_tok_labs)"
   ]
  },
  {
   "cell_type": "code",
   "execution_count": null,
   "id": "331ffe70",
   "metadata": {},
   "outputs": [],
   "source": [
    "tokenized_utterances[0]"
   ]
  },
  {
   "cell_type": "code",
   "execution_count": null,
   "id": "97d4dc01",
   "metadata": {},
   "outputs": [],
   "source": [
    "labs_for_toks[0]"
   ]
  },
  {
   "cell_type": "code",
   "execution_count": null,
   "id": "ff9df414",
   "metadata": {},
   "outputs": [],
   "source": [
    "[unique_tok_labs[lab] for lab in labs_for_toks[0]]"
   ]
  },
  {
   "cell_type": "code",
   "execution_count": null,
   "id": "258cdfa6",
   "metadata": {},
   "outputs": [],
   "source": [
    "utters[0]"
   ]
  },
  {
   "cell_type": "code",
   "execution_count": null,
   "id": "8627a9da",
   "metadata": {},
   "outputs": [],
   "source": [
    "seq_labs[0]"
   ]
  },
  {
   "cell_type": "code",
   "execution_count": null,
   "id": "bce38373",
   "metadata": {},
   "outputs": [],
   "source": [
    "unique_seq_labs[seq_labs[0]]"
   ]
  },
  {
   "cell_type": "code",
   "execution_count": null,
   "id": "a7481a08",
   "metadata": {},
   "outputs": [],
   "source": []
  }
 ],
 "metadata": {
  "kernelspec": {
   "display_name": "Python 3 (ipykernel)",
   "language": "python",
   "name": "python3"
  },
  "language_info": {
   "codemirror_mode": {
    "name": "ipython",
    "version": 3
   },
   "file_extension": ".py",
   "mimetype": "text/x-python",
   "name": "python",
   "nbconvert_exporter": "python",
   "pygments_lexer": "ipython3",
   "version": "3.10.6"
  }
 },
 "nbformat": 4,
 "nbformat_minor": 5
}
