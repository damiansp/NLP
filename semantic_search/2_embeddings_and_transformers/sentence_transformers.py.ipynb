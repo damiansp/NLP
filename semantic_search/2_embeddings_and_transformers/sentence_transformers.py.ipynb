{
 "cells": [
  {
   "cell_type": "code",
   "execution_count": null,
   "id": "dff67396",
   "metadata": {},
   "outputs": [],
   "source": [
    "import numpy as np\n",
    "from   sentence_transformers import SentenceTransformer\n",
    "from   sentence_transformers.util import cos_sim"
   ]
  },
  {
   "cell_type": "code",
   "execution_count": null,
   "id": "fdc8c367",
   "metadata": {},
   "outputs": [],
   "source": [
    "mod = SentenceTransformer('bert-base-nli-mean-tokens')\n",
    "mod"
   ]
  },
  {
   "cell_type": "code",
   "execution_count": 1,
   "id": "38fec778",
   "metadata": {},
   "outputs": [],
   "source": [
    "sentences = [\n",
    "    'the fifty mannequin heads floating in the pool kind of freaked '\n",
    "    'them out',\n",
    "    'she swore she just saw her sushi move',\n",
    "    'he embraced his new life as an eggplant',\n",
    "    'my orthodontist tells me that chewing bricks is very bad for your '\n",
    "    'teeth',\n",
    "    'the dental specialist recommended an immediate stop to flossing '\n",
    "    'with construction materials']"
   ]
  },
  {
   "cell_type": "code",
   "execution_count": null,
   "id": "a3224b00",
   "metadata": {},
   "outputs": [],
   "source": [
    "embeddings = mod.encode(sentences)\n",
    "embeddings.shape"
   ]
  },
  {
   "cell_type": "code",
   "execution_count": null,
   "id": "9bcd33a0",
   "metadata": {},
   "outputs": [],
   "source": [
    "n = len(sentences)\n",
    "sim = np.zeros((n, n))\n",
    "for i in range(n):\n",
    "    sim[i:, i] = cos_sim(embeddings[i], embeddings[i:])\n",
    "    \n",
    "sim"
   ]
  },
  {
   "cell_type": "code",
   "execution_count": null,
   "id": "87a58229",
   "metadata": {},
   "outputs": [],
   "source": [
    "mpnet = SentenceTransformer('all-mpnet-base-v2')\n",
    "mpnet"
   ]
  },
  {
   "cell_type": "code",
   "execution_count": null,
   "id": "dc034957",
   "metadata": {},
   "outputs": [],
   "source": [
    "embeddings = mpnet.encode(sentences)\n",
    "sim = np.zeros((len(sentences), len(sentences)))\n",
    "for in in range(len(sentences)):\n",
    "    sim[i:, i] = cos_sim(embeddings[i], embeddings[i:])\n",
    "    \n",
    "sim"
   ]
  }
 ],
 "metadata": {
  "kernelspec": {
   "display_name": "Python 3 (ipykernel)",
   "language": "python",
   "name": "python3"
  },
  "language_info": {
   "codemirror_mode": {
    "name": "ipython",
    "version": 3
   },
   "file_extension": ".py",
   "mimetype": "text/x-python",
   "name": "python",
   "nbconvert_exporter": "python",
   "pygments_lexer": "ipython3",
   "version": "3.8.5"
  }
 },
 "nbformat": 4,
 "nbformat_minor": 5
}
