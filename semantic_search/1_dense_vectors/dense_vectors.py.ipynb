{
 "cells": [
  {
   "cell_type": "code",
   "execution_count": 3,
   "id": "f1f1a6bd",
   "metadata": {},
   "outputs": [
    {
     "ename": "ModuleNotFoundError",
     "evalue": "No module named 'sentence_transformers'",
     "output_type": "error",
     "traceback": [
      "\u001b[0;31m---------------------------------------------------------------------------\u001b[0m",
      "\u001b[0;31mModuleNotFoundError\u001b[0m                       Traceback (most recent call last)",
      "\u001b[0;32m/var/folders/41/jhvt_zmd3nz3x5jsqblr221r0000gn/T/ipykernel_20871/1754173387.py\u001b[0m in \u001b[0;36m<module>\u001b[0;34m\u001b[0m\n\u001b[0;32m----> 1\u001b[0;31m \u001b[0;32mfrom\u001b[0m \u001b[0msentence_transformers\u001b[0m \u001b[0;32mimport\u001b[0m \u001b[0mSentenceTransformer\u001b[0m\u001b[0;34m\u001b[0m\u001b[0;34m\u001b[0m\u001b[0m\n\u001b[0m\u001b[1;32m      2\u001b[0m \u001b[0;32mfrom\u001b[0m \u001b[0msentence_transformers\u001b[0m\u001b[0;34m.\u001b[0m\u001b[0mutil\u001b[0m \u001b[0;32mimport\u001b[0m \u001b[0mcos_sim\u001b[0m\u001b[0;34m\u001b[0m\u001b[0;34m\u001b[0m\u001b[0m\n\u001b[1;32m      3\u001b[0m from transformers import (\n\u001b[1;32m      4\u001b[0m     \u001b[0mDPRContextEncoder\u001b[0m\u001b[0;34m,\u001b[0m \u001b[0mDPRContextEncoderTokenizer\u001b[0m\u001b[0;34m,\u001b[0m\u001b[0;34m\u001b[0m\u001b[0;34m\u001b[0m\u001b[0m\n\u001b[1;32m      5\u001b[0m     DPRQuestionEncoder, DPRQuestionEncoderTokenizer)\n",
      "\u001b[0;31mModuleNotFoundError\u001b[0m: No module named 'sentence_transformers'"
     ]
    }
   ],
   "source": [
    "from sentence_transformers import SentenceTransformer\n",
    "from sentence_transformers.util import cos_sim\n",
    "from transformers import (\n",
    "    DPRContextEncoder, DPRContextEncoderTokenizer, \n",
    "    DPRQuestionEncoder, DPRQuestionEncoderTokenizer)\n",
    "import torch"
   ]
  },
  {
   "cell_type": "code",
   "execution_count": null,
   "id": "c73b3178",
   "metadata": {},
   "outputs": [],
   "source": [
    "mod = SentenceTransformer('all-mpnet-base-v2')"
   ]
  },
  {
   "cell_type": "code",
   "execution_count": 2,
   "id": "d6aaac48",
   "metadata": {},
   "outputs": [],
   "source": [
    "sentences = [\n",
    "    'it caught him off guard that space smelled of seared steak',\n",
    "    'she could not decide between painting her teeth or brushing her '\n",
    "    'nails',\n",
    "    \"he thought there'd be sufficient time if he hid his watch\",\n",
    "    'the bees decided to have a mutiny against their queen',\n",
    "    'the sign said there was road work ahead so she decided to speed '\n",
    "    'up',\n",
    "    \"on a scale of one to ten what's your favorite flavor of color?\",\n",
    "    'flying stinging insects rebelled in opposition to the matriarch']"
   ]
  },
  {
   "cell_type": "code",
   "execution_count": null,
   "id": "e3a2e30a",
   "metadata": {},
   "outputs": [],
   "source": [
    "embeddings = mod.encode(sentences)\n",
    "embeddings.shape"
   ]
  },
  {
   "cell_type": "code",
   "execution_count": null,
   "id": "c993bd1f",
   "metadata": {},
   "outputs": [],
   "source": [
    "scores = cos_sim(embeddings[-1], embeddings[:-1])\n",
    "scores"
   ]
  },
  {
   "cell_type": "code",
   "execution_count": null,
   "id": "b17102ca",
   "metadata": {},
   "outputs": [],
   "source": [
    "sentences[scores.argmax().item()]"
   ]
  },
  {
   "cell_type": "markdown",
   "id": "661070d2",
   "metadata": {},
   "source": [
    "### Question Answering"
   ]
  },
  {
   "cell_type": "code",
   "execution_count": null,
   "id": "ef06f85e",
   "metadata": {},
   "outputs": [],
   "source": [
    "pretrained = 'facebook/dpr-ctx_encoder-single-nq-base'\n",
    "ctx_mod = DPRContextEncoder.from_pretrained(pretrained)\n",
    "ctx_tokenizer = DPRContextEncoderTokenizer.from_pretrained(pretrained)\n",
    "\n",
    "pretrained = pretrained.replace('ctx', 'question')\n",
    "question_mod = DPRQuestionEncoder.from_pretrained(pretrained)\n",
    "question_tokenizer = DPRQuestionEncoderTokenizer.from_pretrained(\n",
    "    pretrained)"
   ]
  },
  {
   "cell_type": "code",
   "execution_count": 4,
   "id": "d0afd581",
   "metadata": {},
   "outputs": [],
   "source": [
    "questions = [\n",
    "    'what is the capital of australia?',\n",
    "    'what is the best selling sci-fi book?',\n",
    "    'how many searches are performed on google?']\n",
    "\n",
    "contexts = [\n",
    "    'canberra is the capital city of australia',\n",
    "    'what is the capital of australia?',\n",
    "    'what country is paris the capital of?',\n",
    "    'sci-fi is a popular genre beloved my millions',\n",
    "    'the best selling sci-fi book is that atrocity by L. Ron Hubbard',\n",
    "    'google is a popular search engine',\n",
    "    'what is the best selling sci-fi book?',\n",
    "    'how many searches are performed on google?',\n",
    "    'google servers more than 2 trillion queries per year']"
   ]
  },
  {
   "cell_type": "code",
   "execution_count": null,
   "id": "28380e1a",
   "metadata": {},
   "outputs": [],
   "source": [
    "xb_tokens = ctx_tokenizer(\n",
    "    contexts, max_length=256, padding='max_length', return_tensors='pt')\n",
    "xb = ctx_mod(**xb_tokens)\n",
    "\n",
    "xq_tokens = question_tokenizer(questions, \n",
    "                               max_length=256, \n",
    "                               padding='max_length', \n",
    "                               return_tensors='pt')\n",
    "xq = question_mod(**xb_tokens)"
   ]
  },
  {
   "cell_type": "code",
   "execution_count": null,
   "id": "31d73aeb",
   "metadata": {},
   "outputs": [],
   "source": [
    "xq.keys()"
   ]
  },
  {
   "cell_type": "code",
   "execution_count": null,
   "id": "08dabfb7",
   "metadata": {},
   "outputs": [],
   "source": [
    "xq.pooler_output.shape, xb.pooler_output.shape"
   ]
  },
  {
   "cell_type": "code",
   "execution_count": null,
   "id": "9d69a00f",
   "metadata": {},
   "outputs": [],
   "source": [
    "for i, xq_vec in enumerate(xq.pooler_output):\n",
    "    probs = cos_sim(xq_vec, xb.pooler_output)\n",
    "    argmax = torch.argmax(probs)\n",
    "    print(questions[i])\n",
    "    print('  ', contexts[argmax], '\\n')"
   ]
  },
  {
   "cell_type": "code",
   "execution_count": null,
   "id": "ed42ba10",
   "metadata": {},
   "outputs": [],
   "source": []
  }
 ],
 "metadata": {
  "kernelspec": {
   "display_name": "Python 3 (ipykernel)",
   "language": "python",
   "name": "python3"
  },
  "language_info": {
   "codemirror_mode": {
    "name": "ipython",
    "version": 3
   },
   "file_extension": ".py",
   "mimetype": "text/x-python",
   "name": "python",
   "nbconvert_exporter": "python",
   "pygments_lexer": "ipython3",
   "version": "3.9.9"
  }
 },
 "nbformat": 4,
 "nbformat_minor": 5
}
