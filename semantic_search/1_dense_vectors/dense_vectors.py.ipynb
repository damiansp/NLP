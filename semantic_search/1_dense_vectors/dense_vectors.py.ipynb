{
 "cells": [
  {
   "cell_type": "code",
   "execution_count": 1,
   "id": "f1f1a6bd",
   "metadata": {},
   "outputs": [
    {
     "ename": "ModuleNotFoundError",
     "evalue": "No module named 'sentence_transformers'",
     "output_type": "error",
     "traceback": [
      "\u001b[0;31m---------------------------------------------------------------------------\u001b[0m",
      "\u001b[0;31mModuleNotFoundError\u001b[0m                       Traceback (most recent call last)",
      "\u001b[0;32m/var/folders/41/jhvt_zmd3nz3x5jsqblr221r0000gn/T/ipykernel_64407/3121127374.py\u001b[0m in \u001b[0;36m<module>\u001b[0;34m\u001b[0m\n\u001b[0;32m----> 1\u001b[0;31m \u001b[0;32mfrom\u001b[0m \u001b[0msentence_transformers\u001b[0m \u001b[0;32mimport\u001b[0m \u001b[0mSentenceTransformer\u001b[0m\u001b[0;34m\u001b[0m\u001b[0;34m\u001b[0m\u001b[0m\n\u001b[0m",
      "\u001b[0;31mModuleNotFoundError\u001b[0m: No module named 'sentence_transformers'"
     ]
    }
   ],
   "source": [
    "from sentence_transformers import SentenceTransformer\n",
    "from sentence_transformers.util import cos_sim"
   ]
  },
  {
   "cell_type": "code",
   "execution_count": null,
   "id": "c73b3178",
   "metadata": {},
   "outputs": [],
   "source": [
    "mod = SentenceTransformer('all-mpnet-base-v2')"
   ]
  },
  {
   "cell_type": "code",
   "execution_count": 2,
   "id": "d6aaac48",
   "metadata": {},
   "outputs": [],
   "source": [
    "sentences = [\n",
    "    'it caught him off guard that space smelled of seared steak',\n",
    "    'she could not decide between painting her teeth or brushing her '\n",
    "    'nails',\n",
    "    \"he thought there'd be sufficient time if he hid his watch\",\n",
    "    'the bees decided to have a mutiny against their queen',\n",
    "    'the sign said there was road work ahead so she decided to speed '\n",
    "    'up',\n",
    "    \"on a scale of one to ten what's your favorite flavor of color?\",\n",
    "    'flying stinging insects rebelled in opposition to the matriarch']"
   ]
  },
  {
   "cell_type": "code",
   "execution_count": null,
   "id": "e3a2e30a",
   "metadata": {},
   "outputs": [],
   "source": [
    "embeddings = mod.encode(sentences)\n",
    "embeddings.shape"
   ]
  },
  {
   "cell_type": "code",
   "execution_count": null,
   "id": "c993bd1f",
   "metadata": {},
   "outputs": [],
   "source": [
    "scores = cos_sim(embeddings[-1], embeddings[:-1])\n",
    "scores"
   ]
  },
  {
   "cell_type": "code",
   "execution_count": null,
   "id": "b17102ca",
   "metadata": {},
   "outputs": [],
   "source": [
    "sentences[scores.argmax().item()]"
   ]
  }
 ],
 "metadata": {
  "kernelspec": {
   "display_name": "Python 3 (ipykernel)",
   "language": "python",
   "name": "python3"
  },
  "language_info": {
   "codemirror_mode": {
    "name": "ipython",
    "version": 3
   },
   "file_extension": ".py",
   "mimetype": "text/x-python",
   "name": "python",
   "nbconvert_exporter": "python",
   "pygments_lexer": "ipython3",
   "version": "3.10.0"
  }
 },
 "nbformat": 4,
 "nbformat_minor": 5
}
