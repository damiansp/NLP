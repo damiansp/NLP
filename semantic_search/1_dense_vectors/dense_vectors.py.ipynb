{
 "cells": [
  {
   "cell_type": "code",
   "execution_count": null,
   "id": "f1f1a6bd",
   "metadata": {},
   "outputs": [],
   "source": [
    "import matplotlib.pyplot as plt\n",
    "import numpy as np\n",
    "from   PIL import Image\n",
    "import requests\n",
    "from   sentence_transformers import SentenceTransformer\n",
    "from   sentence_transformers.util import cos_sim\n",
    "from   transformers import (\n",
    "    CLIPModel, CLIPProcessor,\n",
    "    DPRContextEncoder, DPRContextEncoderTokenizer, \n",
    "    DPRQuestionEncoder, DPRQuestionEncoderTokenizer)\n",
    "import torch"
   ]
  },
  {
   "cell_type": "code",
   "execution_count": null,
   "id": "c73b3178",
   "metadata": {},
   "outputs": [],
   "source": [
    "mod = SentenceTransformer('all-mpnet-base-v2')"
   ]
  },
  {
   "cell_type": "code",
   "execution_count": 2,
   "id": "d6aaac48",
   "metadata": {},
   "outputs": [],
   "source": [
    "sentences = [\n",
    "    'it caught him off guard that space smelled of seared steak',\n",
    "    'she could not decide between painting her teeth or brushing her '\n",
    "    'nails',\n",
    "    \"he thought there'd be sufficient time if he hid his watch\",\n",
    "    'the bees decided to have a mutiny against their queen',\n",
    "    'the sign said there was road work ahead so she decided to speed '\n",
    "    'up',\n",
    "    \"on a scale of one to ten what's your favorite flavor of color?\",\n",
    "    'flying stinging insects rebelled in opposition to the matriarch']"
   ]
  },
  {
   "cell_type": "code",
   "execution_count": null,
   "id": "e3a2e30a",
   "metadata": {},
   "outputs": [],
   "source": [
    "embeddings = mod.encode(sentences)\n",
    "embeddings.shape"
   ]
  },
  {
   "cell_type": "code",
   "execution_count": null,
   "id": "c993bd1f",
   "metadata": {},
   "outputs": [],
   "source": [
    "scores = cos_sim(embeddings[-1], embeddings[:-1])\n",
    "scores"
   ]
  },
  {
   "cell_type": "code",
   "execution_count": null,
   "id": "b17102ca",
   "metadata": {},
   "outputs": [],
   "source": [
    "sentences[scores.argmax().item()]"
   ]
  },
  {
   "cell_type": "markdown",
   "id": "661070d2",
   "metadata": {},
   "source": [
    "### Question Answering"
   ]
  },
  {
   "cell_type": "code",
   "execution_count": null,
   "id": "ef06f85e",
   "metadata": {},
   "outputs": [],
   "source": [
    "pretrained = 'facebook/dpr-ctx_encoder-single-nq-base'\n",
    "ctx_mod = DPRContextEncoder.from_pretrained(pretrained)\n",
    "ctx_tokenizer = DPRContextEncoderTokenizer.from_pretrained(pretrained)\n",
    "\n",
    "pretrained = pretrained.replace('ctx', 'question')\n",
    "question_mod = DPRQuestionEncoder.from_pretrained(pretrained)\n",
    "question_tokenizer = DPRQuestionEncoderTokenizer.from_pretrained(\n",
    "    pretrained)"
   ]
  },
  {
   "cell_type": "code",
   "execution_count": 4,
   "id": "d0afd581",
   "metadata": {},
   "outputs": [],
   "source": [
    "questions = [\n",
    "    'what is the capital of australia?',\n",
    "    'what is the best selling sci-fi book?',\n",
    "    'how many searches are performed on google?']\n",
    "\n",
    "contexts = [\n",
    "    'canberra is the capital city of australia',\n",
    "    'what is the capital of australia?',\n",
    "    'what country is paris the capital of?',\n",
    "    'sci-fi is a popular genre beloved my millions',\n",
    "    'the best selling sci-fi book is that atrocity by L. Ron Hubbard',\n",
    "    'google is a popular search engine',\n",
    "    'what is the best selling sci-fi book?',\n",
    "    'how many searches are performed on google?',\n",
    "    'google servers more than 2 trillion queries per year']"
   ]
  },
  {
   "cell_type": "code",
   "execution_count": null,
   "id": "28380e1a",
   "metadata": {},
   "outputs": [],
   "source": [
    "xb_tokens = ctx_tokenizer(\n",
    "    contexts, max_length=256, padding='max_length', return_tensors='pt')\n",
    "xb = ctx_mod(**xb_tokens)\n",
    "\n",
    "xq_tokens = question_tokenizer(questions, \n",
    "                               max_length=256, \n",
    "                               padding='max_length', \n",
    "                               return_tensors='pt')\n",
    "xq = question_mod(**xb_tokens)"
   ]
  },
  {
   "cell_type": "code",
   "execution_count": null,
   "id": "31d73aeb",
   "metadata": {},
   "outputs": [],
   "source": [
    "xq.keys()"
   ]
  },
  {
   "cell_type": "code",
   "execution_count": null,
   "id": "08dabfb7",
   "metadata": {},
   "outputs": [],
   "source": [
    "xq.pooler_output.shape, xb.pooler_output.shape"
   ]
  },
  {
   "cell_type": "code",
   "execution_count": null,
   "id": "9d69a00f",
   "metadata": {},
   "outputs": [],
   "source": [
    "for i, xq_vec in enumerate(xq.pooler_output):\n",
    "    probs = cos_sim(xq_vec, xb.pooler_output)\n",
    "    argmax = torch.argmax(probs)\n",
    "    print(questions[i])\n",
    "    print('  ', contexts[argmax], '\\n')"
   ]
  },
  {
   "cell_type": "markdown",
   "id": "f0d2f888",
   "metadata": {},
   "source": [
    "### Text to Image"
   ]
  },
  {
   "cell_type": "code",
   "execution_count": null,
   "id": "0d7edbfe",
   "metadata": {},
   "outputs": [],
   "source": [
    "pretrained = 'openai/clip-vit-base-patch32'\n",
    "mod = CLIPModel.from_pretrained(pretrained)\n",
    "processor = CLIPProcessor.from_pretrained(pretrained)"
   ]
  },
  {
   "cell_type": "code",
   "execution_count": null,
   "id": "eb13ff57",
   "metadata": {},
   "outputs": [],
   "source": [
    "urls = [\n",
    "    'https://images.unsplash.com/photo-1576201836106-db1758fd1c97?ixid=MnwxMjA3fDB8MHxwaG90by1wYWdlfHx8fGVufDB8fHx8&ixlib=rb-1.2.1&auto=format&fit=crop&w=400&q=80',\n",
    "    'https://images.unsplash.com/photo-1591294100785-81d39c061468?ixlib=rb-1.2.1&ixid=MnwxMjA3fDB8MHxwaG90by1wYWdlfHx8fGVufDB8fHx8&auto=format&fit=crop&w=300&q=80',\n",
    "    'https://images.unsplash.com/photo-1548199973-03cce0bbc87b?ixid=MnwxMjA3fDB8MHxwaG90by1wYWdlfHx8fGVufDB8fHx8&ixlib=rb-1.2.1&auto=format&fit=crop&w=400&q=80'\n",
    "]"
   ]
  },
  {
   "cell_type": "code",
   "execution_count": null,
   "id": "e22bb43a",
   "metadata": {},
   "outputs": [],
   "source": [
    "images = [Image.open(requests.get(url, stream=True).raw) \n",
    "          for url in urls]\n",
    "for img in images:\n",
    "    plt.show(plt.imshow(np.asarray(img)))"
   ]
  },
  {
   "cell_type": "code",
   "execution_count": null,
   "id": "2fb905ba",
   "metadata": {},
   "outputs": [],
   "source": [
    "captions = ['a dog hiding behind a tree',\n",
    "            'two dogs running',\n",
    "            'a dog running',\n",
    "            'a cucumber on a tree',\n",
    "            'trees in the park',\n",
    "            'a dog eating a cucumber']"
   ]
  },
  {
   "cell_type": "code",
   "execution_count": null,
   "id": "d0e7c3f1",
   "metadata": {},
   "outputs": [],
   "source": [
    "inputs = processor(\n",
    "    text=captions, images=images, return_tensors='pt', padding=True)"
   ]
  },
  {
   "cell_type": "code",
   "execution_count": null,
   "id": "4c04e999",
   "metadata": {},
   "outputs": [],
   "source": [
    "outputs mod(**inputs)\n",
    "outputs.keys()"
   ]
  },
  {
   "cell_type": "code",
   "execution_count": null,
   "id": "223c2a62",
   "metadata": {},
   "outputs": [],
   "source": [
    "probs = outputs.logits_per_image.argmax(dim=1)\n",
    "\n",
    "for i, img in enumerate(images):\n",
    "    argmax = probs[i].item()\n",
    "    print(captions[argmax])\n",
    "    plt.show(plt.imshow(np.asarray(img)))"
   ]
  },
  {
   "cell_type": "code",
   "execution_count": null,
   "id": "39f37031",
   "metadata": {},
   "outputs": [],
   "source": [
    "outputs.text_embeds.shape, outputs.image_embeds.shape"
   ]
  },
  {
   "cell_type": "code",
   "execution_count": null,
   "id": "3e41d0aa",
   "metadata": {},
   "outputs": [],
   "source": [
    "xq = outputs.text_embeds[0] # 'a dog hiding behind a tree'\n",
    "xb = outputs.image_embeds\n",
    "sim = cos_sim(xq, xb)\n",
    "sim"
   ]
  },
  {
   "cell_type": "code",
   "execution_count": null,
   "id": "a94de0f7",
   "metadata": {},
   "outputs": [],
   "source": [
    "pred = sim.argmax().item()\n",
    "pred"
   ]
  },
  {
   "cell_type": "code",
   "execution_count": null,
   "id": "32b49ad5",
   "metadata": {},
   "outputs": [],
   "source": []
  }
 ],
 "metadata": {
  "kernelspec": {
   "display_name": "Python 3 (ipykernel)",
   "language": "python",
   "name": "python3"
  },
  "language_info": {
   "codemirror_mode": {
    "name": "ipython",
    "version": 3
   },
   "file_extension": ".py",
   "mimetype": "text/x-python",
   "name": "python",
   "nbconvert_exporter": "python",
   "pygments_lexer": "ipython3",
   "version": "3.8.5"
  }
 },
 "nbformat": 4,
 "nbformat_minor": 5
}
