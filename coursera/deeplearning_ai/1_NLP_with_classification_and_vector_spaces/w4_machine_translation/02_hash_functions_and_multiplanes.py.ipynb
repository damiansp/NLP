{
 "cells": [
  {
   "cell_type": "code",
   "execution_count": 1,
   "metadata": {},
   "outputs": [],
   "source": [
    "import sys\n",
    "\n",
    "import matplotlib.pyplot as plt\n",
    "import numpy as np\n",
    "import pprint\n",
    "\n",
    "sys.path.append('..')\n",
    "from utils import plot_vectors"
   ]
  },
  {
   "cell_type": "code",
   "execution_count": 2,
   "metadata": {},
   "outputs": [],
   "source": [
    "pp = pprint.PrettyPrinter(indent=4)"
   ]
  },
  {
   "cell_type": "code",
   "execution_count": 6,
   "metadata": {},
   "outputs": [],
   "source": [
    "def basic_hash_table(val_list, n_buckets):\n",
    "\n",
    "    def hash_func(val):\n",
    "        return int(val) % n_buckets\n",
    "    \n",
    "    hash_table = {i: [] for i in range(n_buckets)}\n",
    "    for val in val_list:\n",
    "        hash_val = hash_func(val)\n",
    "        hash_table[hash_val].append(val)\n",
    "    return hash_table"
   ]
  },
  {
   "cell_type": "code",
   "execution_count": 7,
   "metadata": {},
   "outputs": [
    {
     "name": "stdout",
     "output_type": "stream",
     "text": [
      "{   0: [10, 40],\n",
      "    1: [91, 21, 31],\n",
      "    2: [],\n",
      "    3: [63],\n",
      "    4: [],\n",
      "    5: [85],\n",
      "    6: [96],\n",
      "    7: [37, 37, 47, 67, 27],\n",
      "    8: [58, 28, 68],\n",
      "    9: [29, 19, 79, 49]}\n"
     ]
    }
   ],
   "source": [
    "value_list = np.round(np.random.choice(range(100), size=20))\n",
    "hash_table_example = basic_hash_table(value_list, n_buckets=10)\n",
    "pp.pprint(hash_table_example)"
   ]
  },
  {
   "cell_type": "code",
   "execution_count": 10,
   "metadata": {},
   "outputs": [
    {
     "data": {
      "image/png": "[encoded data removed]",
      "text/plain": [
       "<Figure size 576x576 with 1 Axes>"
      ]
     },
     "metadata": {
      "needs_background": "light"
     },
     "output_type": "display_data"
    }
   ],
   "source": [
    "normal = np.array([[1, 1]])\n",
    "fig, ax1 = plt.subplots(figsize=(8, 8))\n",
    "plot_vectors([normal], axes=[2, 2], ax=ax1)\n",
    "\n",
    "for i in range(10):\n",
    "    v1 = np.array(np.random.uniform(-2, 2, 2))\n",
    "    pos_neg = np.sign(np.dot(normal, v1.T)) \n",
    "    if pos_neg == 1:\n",
    "        ax1.plot([v1[0]], [v1[1]], 'bo')\n",
    "    else:\n",
    "        ax1.plot([v1[0]], [v1[1]], 'ro')"
   ]
  },
  {
   "cell_type": "code",
   "execution_count": 11,
   "metadata": {},
   "outputs": [
    {
     "data": {
      "image/png": "[encoded data removed]",
      "text/plain": [
       "<Figure size 576x576 with 1 Axes>"
      ]
     },
     "metadata": {
      "needs_background": "light"
     },
     "output_type": "display_data"
    }
   ],
   "source": [
    "normal = np.array([[1, 2]])\n",
    "plane = np.dot([[0, 1], [-1, 0]], normal.T).T  \n",
    "fig, ax1 = plt.subplots(figsize=(8, 8))\n",
    "\n",
    "plot_vectors([normal], colors=['b'], axes=[2, 2], ax=ax1)\n",
    "plot_vectors(\n",
    "    [plane * 4, plane * -4], colors=['k', 'k'], axes=[4, 4], ax=ax1)\n",
    "for i in range(0, 20):\n",
    "    v1 = np.array(np.random.uniform(-4, 4, 2))\n",
    "    pos_neg = np.sign(np.dot(normal, v1.T))\n",
    "    if pos_neg == 1:\n",
    "        ax1.plot([v1[0]], [v1[1]], 'bo')\n",
    "    else:\n",
    "        ax1.plot([v1[0]], [v1[1]], 'ro')"
   ]
  },
  {
   "cell_type": "code",
   "execution_count": 12,
   "metadata": {},
   "outputs": [],
   "source": [
    "normal = np.array([[1, 1]])\n",
    "v1 = np.array([[1, 2]])\n",
    "v2 = np.array([[-1, 1]])\n",
    "v3 = np.array([[-2, -1]])"
   ]
  },
  {
   "cell_type": "code",
   "execution_count": 13,
   "metadata": {},
   "outputs": [
    {
     "data": {
      "text/plain": [
       "array([[3]])"
      ]
     },
     "execution_count": 13,
     "metadata": {},
     "output_type": "execute_result"
    }
   ],
   "source": [
    "np.dot(normal, v1.T)"
   ]
  },
  {
   "cell_type": "code",
   "execution_count": 14,
   "metadata": {},
   "outputs": [
    {
     "data": {
      "text/plain": [
       "array([[0]])"
      ]
     },
     "execution_count": 14,
     "metadata": {},
     "output_type": "execute_result"
    }
   ],
   "source": [
    "np.dot(normal, v2.T)"
   ]
  },
  {
   "cell_type": "code",
   "execution_count": 15,
   "metadata": {},
   "outputs": [
    {
     "data": {
      "text/plain": [
       "array([[-3]])"
      ]
     },
     "execution_count": 15,
     "metadata": {},
     "output_type": "execute_result"
    }
   ],
   "source": [
    "np.dot(normal, v3.T)"
   ]
  },
  {
   "cell_type": "code",
   "execution_count": 24,
   "metadata": {},
   "outputs": [
    {
     "data": {
      "text/plain": [
       "array([ 1,  0, -1])"
      ]
     },
     "execution_count": 24,
     "metadata": {},
     "output_type": "execute_result"
    }
   ],
   "source": [
    "np.sign([3, 0, -3])"
   ]
  },
  {
   "cell_type": "code",
   "execution_count": 18,
   "metadata": {},
   "outputs": [],
   "source": [
    "def side_of_plane(normal, point):\n",
    "    dotproduct = np.dot(normal, point.T)\n",
    "    pos_neg = np.sign(dotproduct).item()\n",
    "    return pos_neg"
   ]
  },
  {
   "cell_type": "code",
   "execution_count": 19,
   "metadata": {},
   "outputs": [
    {
     "data": {
      "text/plain": [
       "1"
      ]
     },
     "execution_count": 19,
     "metadata": {},
     "output_type": "execute_result"
    }
   ],
   "source": [
    "side_of_plane(normal, v1)"
   ]
  },
  {
   "cell_type": "code",
   "execution_count": 20,
   "metadata": {},
   "outputs": [
    {
     "data": {
      "text/plain": [
       "0"
      ]
     },
     "execution_count": 20,
     "metadata": {},
     "output_type": "execute_result"
    }
   ],
   "source": [
    "side_of_plane(normal, v2)"
   ]
  },
  {
   "cell_type": "code",
   "execution_count": 21,
   "metadata": {},
   "outputs": [
    {
     "data": {
      "text/plain": [
       "-1"
      ]
     },
     "execution_count": 21,
     "metadata": {},
     "output_type": "execute_result"
    }
   ],
   "source": [
    "side_of_plane(normal, v3)"
   ]
  },
  {
   "cell_type": "code",
   "execution_count": 31,
   "metadata": {},
   "outputs": [
    {
     "data": {
      "text/plain": [
       "False"
      ]
     },
     "execution_count": 31,
     "metadata": {},
     "output_type": "execute_result"
    }
   ],
   "source": [
    "not bool('False')"
   ]
  },
  {
   "cell_type": "code",
   "execution_count": 32,
   "metadata": {},
   "outputs": [],
   "source": [
    "norm1 = np.array([[1, 1]])\n",
    "norm2 = np.array([[-1, 1]])\n",
    "norm3 = np.array([[-1, -1]])\n",
    "norms = [norm1, norm2, norm3]\n",
    "\n",
    "# Vector to search\n",
    "v = np.array([[2, 2]])"
   ]
  },
  {
   "cell_type": "code",
   "execution_count": 33,
   "metadata": {},
   "outputs": [],
   "source": [
    "def hash_multi_plane(norms, point):\n",
    "    hash_value = 0\n",
    "    for i, norm in enumerate(norms):\n",
    "        sign = side_of_plane(norm, point)\n",
    "        hash_i = 1 if sign >=0 else 0\n",
    "        hash_value += 2**i * hash_i\n",
    "    return hash_value"
   ]
  },
  {
   "cell_type": "code",
   "execution_count": 34,
   "metadata": {},
   "outputs": [
    {
     "data": {
      "text/plain": [
       "3"
      ]
     },
     "execution_count": 34,
     "metadata": {},
     "output_type": "execute_result"
    }
   ],
   "source": [
    "hash_multi_plane(norms, v)"
   ]
  },
  {
   "cell_type": "code",
   "execution_count": 53,
   "metadata": {},
   "outputs": [
    {
     "name": "stdout",
     "output_type": "stream",
     "text": [
      "[[-1.34970592 -1.1589429 ]\n",
      " [ 0.18609532  0.21277165]\n",
      " [-1.38556213 -1.37517664]]\n"
     ]
    }
   ],
   "source": [
    "n_dims = 2\n",
    "n_planes = 3\n",
    "random_norms_matrix = np.random.normal(size=(n_planes, n_dims))\n",
    "print(random_norms_matrix)"
   ]
  },
  {
   "cell_type": "code",
   "execution_count": 54,
   "metadata": {},
   "outputs": [],
   "source": [
    "v = np.array([[2, 2]])"
   ]
  },
  {
   "cell_type": "code",
   "execution_count": 55,
   "metadata": {},
   "outputs": [],
   "source": [
    "def side_of_norms_matrix(norms_matrix, point):\n",
    "    dotproduct = np.dot(norms_matrix, point.T)\n",
    "    sign = np.sign(dotproduct)\n",
    "    return sign"
   ]
  },
  {
   "cell_type": "code",
   "execution_count": 56,
   "metadata": {},
   "outputs": [
    {
     "data": {
      "text/plain": [
       "array([[-1.],\n",
       "       [ 1.],\n",
       "       [-1.]])"
      ]
     },
     "execution_count": 56,
     "metadata": {},
     "output_type": "execute_result"
    }
   ],
   "source": [
    "sides_list = side_of_norms_matrix(random_norms_matrix, v)\n",
    "sides_list"
   ]
  },
  {
   "cell_type": "code",
   "execution_count": 57,
   "metadata": {},
   "outputs": [],
   "source": [
    "def hash_multi_norm_matrix(norm_matrix, point, n_planes):\n",
    "    sides_matrix = side_of_norms_matrix(norm_matrix, point)\n",
    "    hash_value = 0\n",
    "    for i in range(n_planes):\n",
    "        sign = sides_matrix[i].item()\n",
    "        hash_i = 1 if sign >=0 else 0\n",
    "        hash_value += 2**i * hash_i\n",
    "    return hash_value"
   ]
  },
  {
   "cell_type": "code",
   "execution_count": 58,
   "metadata": {},
   "outputs": [
    {
     "data": {
      "text/plain": [
       "2"
      ]
     },
     "execution_count": 58,
     "metadata": {},
     "output_type": "execute_result"
    }
   ],
   "source": [
    "hash_multi_norm_matrix(random_norms_matrix, v, n_planes)"
   ]
  },
  {
   "cell_type": "code",
   "execution_count": 60,
   "metadata": {},
   "outputs": [
    {
     "name": "stdout",
     "output_type": "stream",
     "text": [
      "[1 1 2]\n"
     ]
    }
   ],
   "source": [
    "word_embedding = {'I': np.array([1, 0, 1]),\n",
    "                  'love': np.array([-1, 0, 1]),\n",
    "                  'learning': np.array([1, 1, 0])}\n",
    "words_in_document = ['I', 'love', 'learning', 'not_a_word']\n",
    "document_embedding = np.array([0, 0, 0])\n",
    "for word in words_in_document:\n",
    "    document_embedding += word_embedding.get(word,0)\n",
    "print(document_embedding)"
   ]
  },
  {
   "cell_type": "code",
   "execution_count": null,
   "metadata": {},
   "outputs": [],
   "source": []
  }
 ],
 "metadata": {
  "kernelspec": {
   "display_name": "Python 3",
   "language": "python",
   "name": "python3"
  },
  "language_info": {
   "codemirror_mode": {
    "name": "ipython",
    "version": 3
   },
   "file_extension": ".py",
   "mimetype": "text/x-python",
   "name": "python",
   "nbconvert_exporter": "python",
   "pygments_lexer": "ipython3",
   "version": "3.7.3"
  }
 },
 "nbformat": 4,
 "nbformat_minor": 4
}
