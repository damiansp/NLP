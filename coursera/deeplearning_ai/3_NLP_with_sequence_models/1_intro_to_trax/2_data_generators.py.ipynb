{
 "cells": [
  {
   "cell_type": "code",
   "execution_count": 1,
   "metadata": {},
   "outputs": [],
   "source": [
    "import random\n",
    "\n",
    "import numpy as np"
   ]
  },
  {
   "cell_type": "code",
   "execution_count": 8,
   "metadata": {},
   "outputs": [
    {
     "name": "stdout",
     "output_type": "stream",
     "text": [
      "[1, 2, 3, 4, 1, 2, 3, 4, 1, 2]\n"
     ]
    }
   ],
   "source": [
    "a = [1, 2, 3, 4]\n",
    "b = [0] * 10\n",
    "\n",
    "a_size = len(a)\n",
    "b_size = len(b)\n",
    "lines_index = [*range(a_size)]\n",
    "index = 0\n",
    "\n",
    "for i in range(b_size):\n",
    "    if index >= a_size:\n",
    "        index = 0\n",
    "    b[i] = a[lines_index[index]]\n",
    "    index += 1\n",
    "    \n",
    "print(b)"
   ]
  },
  {
   "cell_type": "code",
   "execution_count": 9,
   "metadata": {},
   "outputs": [
    {
     "name": "stdout",
     "output_type": "stream",
     "text": [
      "Original order of index [0, 1, 2, 3]\n"
     ]
    }
   ],
   "source": [
    "a = [1, 2, 3, 4]\n",
    "b = []\n",
    "print('Original order of index', lines_index)"
   ]
  },
  {
   "cell_type": "code",
   "execution_count": 10,
   "metadata": {},
   "outputs": [
    {
     "name": "stdout",
     "output_type": "stream",
     "text": [
      "Shuffled [0, 1, 3, 2]\n"
     ]
    }
   ],
   "source": [
    "random.shuffle(lines_index)\n",
    "print('Shuffled', lines_index)"
   ]
  },
  {
   "cell_type": "code",
   "execution_count": 11,
   "metadata": {},
   "outputs": [
    {
     "name": "stdout",
     "output_type": "stream",
     "text": [
      "New val order for 1st batch: [1, 2, 4, 3]\n",
      "\n",
      "Shuffled inds for batch 2: [2, 1, 0, 3]\n",
      "Vals for batch: [3, 2, 1, 4]\n",
      "\n",
      "Shuffled inds for batch 3: [2, 1, 3, 0]\n",
      "Vals for batch: [3, 2, 4, 1]\n"
     ]
    },
    {
     "data": {
      "text/plain": [
       "[1, 2, 4, 3, 3, 2, 1, 4, 3, 2]"
      ]
     },
     "execution_count": 11,
     "metadata": {},
     "output_type": "execute_result"
    }
   ],
   "source": [
    "print('New val order for 1st batch:', [a[index] for index in lines_index])\n",
    "batch_counter = 1\n",
    "index = 0\n",
    "for i in range(b_size):\n",
    "    if index >= a_size:\n",
    "        index = 0\n",
    "        batch_counter += 1\n",
    "        random.shuffle(lines_index)\n",
    "        print(f'\\nShuffled inds for batch {batch_counter}: {lines_index}')\n",
    "        print('Vals for batch:', [a[index] for index in lines_index])\n",
    "    b.append(a[lines_index[index]])\n",
    "    index += 1\n",
    "    \n",
    "b"
   ]
  },
  {
   "cell_type": "code",
   "execution_count": 16,
   "metadata": {},
   "outputs": [],
   "source": [
    "def data_generator(batch_size, x, y, shuffle=True):\n",
    "    '''\n",
    "    Input: \n",
    "      batch_size - integer describing the batch size\n",
    "      data_x - list containing samples\n",
    "      data_y - list containing labels\n",
    "      shuffle - Shuffle the data order\n",
    "    Output:\n",
    "    a tuple containing 2 elements:\n",
    "      X - list of dim (batch_size) of samples\n",
    "      Y - list of dim (batch_size) of labels\n",
    "    '''\n",
    "    data_len = len(x)\n",
    "    index_list = [*range(data_len)]\n",
    "    if shuffle:\n",
    "        random.shuffle(index_list)\n",
    "    index = 0\n",
    "    while True:\n",
    "        X = [0] * batch_size\n",
    "        Y = [0] * batch_size\n",
    "        for i in range(batch_size):\n",
    "            if index >= data_len:\n",
    "                index = 0\n",
    "                if shuffle:\n",
    "                    random.shuffle(index_list)\n",
    "            X[i] = x[index_list[index]]\n",
    "            Y[i] = y[index_list[index]]\n",
    "            index += 1\n",
    "        yield ((X, Y))"
   ]
  },
  {
   "cell_type": "code",
   "execution_count": 17,
   "metadata": {},
   "outputs": [
    {
     "data": {
      "text/plain": [
       "([1, 2, 3], [1, 4, 9])"
      ]
     },
     "execution_count": 17,
     "metadata": {},
     "output_type": "execute_result"
    }
   ],
   "source": [
    "x = [1, 2, 3, 4]\n",
    "y = [xi**2 for xi in x]\n",
    "gen = data_generator(3, x, y, False)\n",
    "next(gen)"
   ]
  },
  {
   "cell_type": "code",
   "execution_count": 18,
   "metadata": {},
   "outputs": [
    {
     "data": {
      "text/plain": [
       "([4, 1, 2], [16, 1, 4])"
      ]
     },
     "execution_count": 18,
     "metadata": {},
     "output_type": "execute_result"
    }
   ],
   "source": [
    "next(gen)"
   ]
  },
  {
   "cell_type": "code",
   "execution_count": 20,
   "metadata": {},
   "outputs": [
    {
     "name": "stdout",
     "output_type": "stream",
     "text": [
      "\u001b[92mAll tests passed!\n"
     ]
    }
   ],
   "source": [
    "def test_data_generator():\n",
    "    x = [1, 2, 3, 4]\n",
    "    y = [xi ** 2 for xi in x]\n",
    "    generator = data_generator(3, x, y, shuffle=False)\n",
    "    assert np.allclose(next(generator), ([1, 2, 3], [1, 4, 9])),\\\n",
    "        \"First batch does not match\"\n",
    "    assert np.allclose(next(generator), ([4, 1, 2], [16, 1, 4])),\\\n",
    "        \"Second batch does not match\"\n",
    "    assert np.allclose(next(generator), ([3, 4, 1], [9, 16, 1])),\\\n",
    "        \"Third batch does not match\"\n",
    "    assert np.allclose(next(generator), ([2, 3, 4], [4, 9, 16])),\\\n",
    "        \"Fourth batch does not match\"\n",
    "    print(\"\\033[92mAll tests passed!\")\n",
    "\n",
    "test_data_generator()"
   ]
  },
  {
   "cell_type": "code",
   "execution_count": null,
   "metadata": {},
   "outputs": [],
   "source": []
  }
 ],
 "metadata": {
  "kernelspec": {
   "display_name": "Python 3",
   "language": "python",
   "name": "python3"
  },
  "language_info": {
   "codemirror_mode": {
    "name": "ipython",
    "version": 3
   },
   "file_extension": ".py",
   "mimetype": "text/x-python",
   "name": "python",
   "nbconvert_exporter": "python",
   "pygments_lexer": "ipython3",
   "version": "3.8.5"
  }
 },
 "nbformat": 4,
 "nbformat_minor": 4
}
