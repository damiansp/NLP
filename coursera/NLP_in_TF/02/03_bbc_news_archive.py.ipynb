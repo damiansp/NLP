{
 "cells": [
  {
   "cell_type": "code",
   "execution_count": 1,
   "metadata": {},
   "outputs": [],
   "source": [
    "import matplotlib.pyplot as plt\n",
    "import numpy as np\n",
    "import pandas as pd\n",
    "import tensorflow as tf\n",
    "from   tensorflow.keras.preprocessing.text import Tokenizer\n",
    "from   tensorflow.keras.preprocessing.sequence import pad_sequences\n",
    "\n",
    "%matplotlib inline"
   ]
  },
  {
   "cell_type": "code",
   "execution_count": 2,
   "metadata": {},
   "outputs": [
    {
     "data": {
      "text/plain": [
       "'2.0.0'"
      ]
     },
     "execution_count": 2,
     "metadata": {},
     "output_type": "execute_result"
    }
   ],
   "source": [
    "tf.__version__"
   ]
  },
  {
   "cell_type": "code",
   "execution_count": 3,
   "metadata": {},
   "outputs": [
    {
     "name": "stdout",
     "output_type": "stream",
     "text": [
      "aclImdb_v1.tar.gz bbc-text.csv      \u001b[34mnmt\u001b[m\u001b[m               \u001b[34msurnames\u001b[m\u001b[m\r\n",
      "\u001b[34mag_news\u001b[m\u001b[m           \u001b[34mbooks\u001b[m\u001b[m             sarcasm.json      \u001b[34myelp\u001b[m\u001b[m\r\n"
     ]
    }
   ],
   "source": [
    "!ls ../../../data"
   ]
  },
  {
   "cell_type": "code",
   "execution_count": 4,
   "metadata": {},
   "outputs": [],
   "source": [
    "#!head -5 ../../../data/bbc-text.csv"
   ]
  },
  {
   "cell_type": "code",
   "execution_count": 5,
   "metadata": {},
   "outputs": [],
   "source": [
    "DATA = '../../../data'"
   ]
  },
  {
   "cell_type": "code",
   "execution_count": 6,
   "metadata": {},
   "outputs": [],
   "source": [
    "VOCAB_SIZE = 10000\n",
    "EMBEDDING_DIM = 50\n",
    "MAX_LEN = 150\n",
    "TRUNC_TYPE = 'post'\n",
    "PADDING_TYPE = 'post'\n",
    "OOV_TOK = '<UNK>'\n",
    "TRAINING_PORTION = 0.8"
   ]
  },
  {
   "cell_type": "code",
   "execution_count": 7,
   "metadata": {},
   "outputs": [
    {
     "data": {
      "text/plain": [
       "153"
      ]
     },
     "execution_count": 7,
     "metadata": {},
     "output_type": "execute_result"
    }
   ],
   "source": [
    "sentences = []\n",
    "labels = []\n",
    "stopwords = [\n",
    "    \"a\", \"about\", \"above\", \"after\", \"again\", \"against\", \"all\", \"am\", \"an\",\n",
    "    \"and\", \"any\", \"are\", \"as\", \"at\", \"be\", \"because\", \"been\", \"before\", \n",
    "    \"being\", \"below\", \"between\", \"both\", \"but\", \"by\", \"could\", \"did\", \n",
    "    \"do\", \"does\", \"doing\", \"down\", \"during\", \"each\", \"few\", \"for\", \"from\",\n",
    "    \"further\", \"had\", \"has\", \"have\", \"having\", \"he\", \"he'd\", \"he'll\", \n",
    "    \"he's\", \"her\", \"here\", \"here's\", \"hers\", \"herself\", \"him\", \"himself\", \n",
    "    \"his\", \"how\", \"how's\", \"i\", \"i'd\", \"i'll\", \"i'm\", \"i've\", \"if\", \"in\", \n",
    "    \"into\", \"is\", \"it\", \"it's\", \"its\", \"itself\", \"let's\", \"me\", \"more\", \n",
    "    \"most\", \"my\", \"myself\", \"nor\", \"of\", \"on\", \"once\", \"only\", \"or\", \n",
    "    \"other\", \"ought\", \"our\", \"ours\", \"ourselves\", \"out\", \"over\", \"own\", \n",
    "    \"same\", \"she\", \"she'd\", \"she'll\", \"she's\", \"should\", \"so\", \"some\", \n",
    "    \"such\", \"than\", \"that\", \"that's\", \"the\", \"their\", \"theirs\", \"them\", \n",
    "    \"themselves\", \"then\", \"there\", \"there's\", \"these\", \"they\", \"they'd\", \n",
    "    \"they'll\", \"they're\", \"they've\", \"this\", \"those\", \"through\", \"to\", \n",
    "    \"too\", \"under\", \"until\", \"up\", \"very\", \"was\", \"we\", \"we'd\", \"we'll\", \n",
    "    \"we're\", \"we've\", \"were\", \"what\", \"what's\", \"when\", \"when's\", \"where\",\n",
    "    \"where's\", \"which\", \"while\", \"who\", \"who's\", \"whom\", \"why\", \"why's\", \n",
    "    \"with\", \"would\", \"you\", \"you'd\", \"you'll\", \"you're\", \"you've\", \"your\",\n",
    "    \"yours\", \"yourself\", \"yourselves\"]\n",
    "len(stopwords)"
   ]
  },
  {
   "cell_type": "code",
   "execution_count": 8,
   "metadata": {},
   "outputs": [],
   "source": [
    "with open(f'{DATA}/bbc-text.csv', 'r') as f:\n",
    "    i = 0\n",
    "    for line in f:\n",
    "        if i != 0:\n",
    "            lab, sent = line.split(',')\n",
    "            sentences.append(sent[:-1])\n",
    "            labels.append(lab)\n",
    "        i += 1"
   ]
  },
  {
   "cell_type": "code",
   "execution_count": 9,
   "metadata": {},
   "outputs": [
    {
     "name": "stdout",
     "output_type": "stream",
     "text": [
      "2225 2225\n"
     ]
    }
   ],
   "source": [
    "print(len(labels), len(sentences))"
   ]
  },
  {
   "cell_type": "code",
   "execution_count": 10,
   "metadata": {},
   "outputs": [
    {
     "data": {
      "text/plain": [
       "'tv future in the hands of viewers with home theatre systems  plasma high-definition tvs  and digital'"
      ]
     },
     "execution_count": 10,
     "metadata": {},
     "output_type": "execute_result"
    }
   ],
   "source": [
    "sentences[0][:100]"
   ]
  },
  {
   "cell_type": "code",
   "execution_count": 11,
   "metadata": {},
   "outputs": [
    {
     "name": "stdout",
     "output_type": "stream",
     "text": [
      "1780\n",
      "1780\n",
      "1780\n",
      "445\n",
      "445\n"
     ]
    }
   ],
   "source": [
    "train_size = 1780\n",
    "\n",
    "train_sentences = sentences[:train_size]\n",
    "train_labels = labels[:train_size]\n",
    "\n",
    "validation_sentences = sentences[train_size:]\n",
    "validation_labels = labels[train_size:]\n",
    "\n",
    "print(train_size)\n",
    "print(len(train_sentences))\n",
    "print(len(train_labels))\n",
    "print(len(validation_sentences))\n",
    "print(len(validation_labels))\n",
    "\n",
    "# Expected output (if training_portion=.8)\n",
    "# 1780\n",
    "# 1780\n",
    "# 1780\n",
    "# 445\n",
    "# 445"
   ]
  },
  {
   "cell_type": "code",
   "execution_count": 12,
   "metadata": {},
   "outputs": [
    {
     "name": "stdout",
     "output_type": "stream",
     "text": [
      "750\n",
      "150\n",
      "300\n",
      "150\n",
      "311\n",
      "150\n"
     ]
    }
   ],
   "source": [
    "tokenizer = Tokenizer(num_words=VOCAB_SIZE, oov_token=OOV_TOK)\n",
    "tokenizer.fit_on_texts(train_sentences)\n",
    "word_index = tokenizer.word_index\n",
    "\n",
    "train_sequences = tokenizer.texts_to_sequences(train_sentences)\n",
    "train_padded = pad_sequences(\n",
    "    train_sequences, maxlen=MAX_LEN, truncating=TRUNC_TYPE)\n",
    "\n",
    "print(len(train_sequences[0]))\n",
    "print(len(train_padded[0]))\n",
    "\n",
    "print(len(train_sequences[1]))\n",
    "print(len(train_padded[1]))\n",
    "\n",
    "print(len(train_sequences[10]))\n",
    "print(len(train_padded[10]))\n",
    "\n",
    "# Expected Ouput\n",
    "# 449\n",
    "# 120\n",
    "# 200\n",
    "# 120\n",
    "# 192\n",
    "# 120"
   ]
  },
  {
   "cell_type": "code",
   "execution_count": 13,
   "metadata": {},
   "outputs": [
    {
     "name": "stdout",
     "output_type": "stream",
     "text": [
      "445\n",
      "(445, 150)\n"
     ]
    }
   ],
   "source": [
    "validation_sequences = tokenizer.texts_to_sequences(validation_sentences)\n",
    "validation_padded = pad_sequences(\n",
    "    validation_sequences, maxlen=MAX_LEN, truncating=TRUNC_TYPE)\n",
    "\n",
    "print(len(validation_sequences))\n",
    "print(validation_padded.shape)\n",
    "\n",
    "# Expected output\n",
    "# 445\n",
    "# (445, 120)"
   ]
  },
  {
   "cell_type": "code",
   "execution_count": 14,
   "metadata": {},
   "outputs": [
    {
     "data": {
      "text/plain": [
       "{'business', 'entertainment', 'politics', 'sport', 'tech'}"
      ]
     },
     "execution_count": 14,
     "metadata": {},
     "output_type": "execute_result"
    }
   ],
   "source": [
    "set(labels)"
   ]
  },
  {
   "cell_type": "code",
   "execution_count": 15,
   "metadata": {},
   "outputs": [
    {
     "name": "stdout",
     "output_type": "stream",
     "text": [
      "[1]\n",
      "[3]\n",
      "[2]\n",
      "(1780, 1)\n",
      "[1]\n",
      "[1]\n",
      "[4]\n",
      "(445, 1)\n"
     ]
    }
   ],
   "source": [
    "label_tokenizer = Tokenizer(num_words=len(set(labels)), oov_token=OOV_TOK)\n",
    "label_tokenizer.fit_on_texts(train_labels)\n",
    "label_index = label_tokenizer.word_index\n",
    "\n",
    "training_label_seq = pad_sequences(\n",
    "    label_tokenizer.texts_to_sequences(train_labels),\n",
    "    maxlen=1,\n",
    "    truncating=TRUNC_TYPE)\n",
    "validation_label_seq = pad_sequences(\n",
    "    label_tokenizer.texts_to_sequences(validation_labels),\n",
    "    maxlen=1,\n",
    "    truncating=TRUNC_TYPE)\n",
    "\n",
    "print(training_label_seq[0])\n",
    "print(training_label_seq[1])\n",
    "print(training_label_seq[2])\n",
    "print(training_label_seq.shape)\n",
    "\n",
    "print(validation_label_seq[0])\n",
    "print(validation_label_seq[1])\n",
    "print(validation_label_seq[2])\n",
    "print(validation_label_seq.shape)\n",
    "\n",
    "# Expected output\n",
    "# [4]\n",
    "# [2]\n",
    "# [1]\n",
    "# (1780, 1)\n",
    "# [5]\n",
    "# [4]\n",
    "# [3]\n",
    "# (445, 1)"
   ]
  },
  {
   "cell_type": "code",
   "execution_count": 16,
   "metadata": {},
   "outputs": [
    {
     "name": "stdout",
     "output_type": "stream",
     "text": [
      "Model: \"sequential\"\n",
      "_________________________________________________________________\n",
      "Layer (type)                 Output Shape              Param #   \n",
      "=================================================================\n",
      "embedding (Embedding)        (None, 150, 50)           500000    \n",
      "_________________________________________________________________\n",
      "flatten (Flatten)            (None, 7500)              0         \n",
      "_________________________________________________________________\n",
      "dense (Dense)                (None, 24)                180024    \n",
      "_________________________________________________________________\n",
      "dense_1 (Dense)              (None, 6)                 150       \n",
      "=================================================================\n",
      "Total params: 680,174\n",
      "Trainable params: 680,174\n",
      "Non-trainable params: 0\n",
      "_________________________________________________________________\n"
     ]
    }
   ],
   "source": [
    "model = tf.keras.Sequential([\n",
    "    tf.keras.layers.Embedding(\n",
    "        VOCAB_SIZE, EMBEDDING_DIM, input_length=MAX_LEN),\n",
    "    tf.keras.layers.Flatten(),\n",
    "    tf.keras.layers.Dense(24, activation='relu'),\n",
    "    tf.keras.layers.Dense(6, activation='sigmoid')])\n",
    "\n",
    "model.compile(loss='sparse_categorical_crossentropy', \n",
    "              optimizer='adam', \n",
    "              metrics=['accuracy'])\n",
    "model.summary()"
   ]
  },
  {
   "cell_type": "code",
   "execution_count": 17,
   "metadata": {},
   "outputs": [
    {
     "name": "stdout",
     "output_type": "stream",
     "text": [
      "Train on 1780 samples, validate on 445 samples\n",
      "Epoch 1/30\n",
      "1780/1780 [==============================] - 2s 1ms/sample - loss: 1.5323 - accuracy: 0.3494 - val_loss: 1.3540 - val_accuracy: 0.3416\n",
      "Epoch 2/30\n",
      "1780/1780 [==============================] - 1s 478us/sample - loss: 1.0351 - accuracy: 0.4466 - val_loss: 0.7109 - val_accuracy: 0.7011\n",
      "Epoch 3/30\n",
      "1780/1780 [==============================] - 1s 478us/sample - loss: 0.1915 - accuracy: 0.9831 - val_loss: 0.3326 - val_accuracy: 0.8719\n",
      "Epoch 4/30\n",
      "1780/1780 [==============================] - 1s 480us/sample - loss: 0.0182 - accuracy: 0.9994 - val_loss: 0.2853 - val_accuracy: 0.8899\n",
      "Epoch 5/30\n",
      "1780/1780 [==============================] - 1s 477us/sample - loss: 0.0076 - accuracy: 0.9994 - val_loss: 0.2682 - val_accuracy: 0.8966\n",
      "Epoch 6/30\n",
      "1780/1780 [==============================] - 1s 482us/sample - loss: 0.0047 - accuracy: 0.9994 - val_loss: 0.2529 - val_accuracy: 0.8989\n",
      "Epoch 7/30\n",
      "1780/1780 [==============================] - 1s 486us/sample - loss: 0.0034 - accuracy: 0.9994 - val_loss: 0.2547 - val_accuracy: 0.8989\n",
      "Epoch 8/30\n",
      "1780/1780 [==============================] - 1s 483us/sample - loss: 0.0026 - accuracy: 0.9994 - val_loss: 0.2537 - val_accuracy: 0.8989\n",
      "Epoch 9/30\n",
      "1780/1780 [==============================] - 1s 479us/sample - loss: 0.0021 - accuracy: 0.9994 - val_loss: 0.2396 - val_accuracy: 0.9079\n",
      "Epoch 10/30\n",
      "1780/1780 [==============================] - 1s 482us/sample - loss: 0.0017 - accuracy: 0.9994 - val_loss: 0.2425 - val_accuracy: 0.9056\n",
      "Epoch 11/30\n",
      "1780/1780 [==============================] - 1s 483us/sample - loss: 0.0015 - accuracy: 0.9994 - val_loss: 0.2425 - val_accuracy: 0.9056\n",
      "Epoch 12/30\n",
      "1780/1780 [==============================] - 1s 482us/sample - loss: 0.0013 - accuracy: 0.9994 - val_loss: 0.2390 - val_accuracy: 0.9101\n",
      "Epoch 13/30\n",
      "1780/1780 [==============================] - 1s 487us/sample - loss: 0.0012 - accuracy: 0.9994 - val_loss: 0.2378 - val_accuracy: 0.9101\n",
      "Epoch 14/30\n",
      "1780/1780 [==============================] - 1s 484us/sample - loss: 0.0011 - accuracy: 0.9994 - val_loss: 0.2365 - val_accuracy: 0.9101\n",
      "Epoch 15/30\n",
      "1780/1780 [==============================] - 1s 492us/sample - loss: 9.7399e-04 - accuracy: 0.9994 - val_loss: 0.2374 - val_accuracy: 0.9101\n",
      "Epoch 16/30\n",
      "1780/1780 [==============================] - 1s 482us/sample - loss: 9.0416e-04 - accuracy: 0.9994 - val_loss: 0.2331 - val_accuracy: 0.9169\n",
      "Epoch 17/30\n",
      "1780/1780 [==============================] - 1s 479us/sample - loss: 8.4637e-04 - accuracy: 0.9994 - val_loss: 0.2353 - val_accuracy: 0.9146\n",
      "Epoch 18/30\n",
      "1780/1780 [==============================] - 1s 480us/sample - loss: 7.9869e-04 - accuracy: 0.9994 - val_loss: 0.2326 - val_accuracy: 0.9169\n",
      "Epoch 19/30\n",
      "1780/1780 [==============================] - 1s 481us/sample - loss: 7.5825e-04 - accuracy: 0.9994 - val_loss: 0.2311 - val_accuracy: 0.9169\n",
      "Epoch 20/30\n",
      "1780/1780 [==============================] - 1s 483us/sample - loss: 7.2300e-04 - accuracy: 0.9994 - val_loss: 0.2339 - val_accuracy: 0.9169\n",
      "Epoch 21/30\n",
      "1780/1780 [==============================] - 1s 481us/sample - loss: 6.9258e-04 - accuracy: 0.9994 - val_loss: 0.2338 - val_accuracy: 0.9169\n",
      "Epoch 22/30\n",
      "1780/1780 [==============================] - 1s 485us/sample - loss: 6.6716e-04 - accuracy: 0.9994 - val_loss: 0.2337 - val_accuracy: 0.9169\n",
      "Epoch 23/30\n",
      "1780/1780 [==============================] - 1s 490us/sample - loss: 6.4362e-04 - accuracy: 0.9994 - val_loss: 0.2310 - val_accuracy: 0.9169\n",
      "Epoch 24/30\n",
      "1780/1780 [==============================] - 1s 492us/sample - loss: 6.2356e-04 - accuracy: 0.9994 - val_loss: 0.2322 - val_accuracy: 0.9169\n",
      "Epoch 25/30\n",
      "1780/1780 [==============================] - 1s 494us/sample - loss: 6.0599e-04 - accuracy: 0.9994 - val_loss: 0.2304 - val_accuracy: 0.9169\n",
      "Epoch 26/30\n",
      "1780/1780 [==============================] - 1s 505us/sample - loss: 5.8997e-04 - accuracy: 0.9994 - val_loss: 0.2319 - val_accuracy: 0.9169\n",
      "Epoch 27/30\n",
      "1780/1780 [==============================] - 1s 513us/sample - loss: 5.7548e-04 - accuracy: 0.9994 - val_loss: 0.2318 - val_accuracy: 0.9169\n",
      "Epoch 28/30\n",
      "1780/1780 [==============================] - 1s 514us/sample - loss: 5.6282e-04 - accuracy: 0.9994 - val_loss: 0.2321 - val_accuracy: 0.9169\n",
      "Epoch 29/30\n",
      "1780/1780 [==============================] - 1s 493us/sample - loss: 5.5124e-04 - accuracy: 0.9994 - val_loss: 0.2308 - val_accuracy: 0.9169\n",
      "Epoch 30/30\n",
      "1780/1780 [==============================] - 1s 496us/sample - loss: 5.4085e-04 - accuracy: 0.9994 - val_loss: 0.2326 - val_accuracy: 0.9169\n"
     ]
    }
   ],
   "source": [
    "EPOCHS = 30\n",
    "history = model.fit(\n",
    "    train_padded,\n",
    "    training_label_seq,\n",
    "    validation_data=(validation_padded, validation_label_seq),\n",
    "    epochs=EPOCHS)"
   ]
  },
  {
   "cell_type": "code",
   "execution_count": 18,
   "metadata": {},
   "outputs": [
    {
     "data": {
      "text/plain": [
       "[0.3494382,\n",
       " 0.44662923,\n",
       " 0.9831461,\n",
       " 0.9994382,\n",
       " 0.9994382,\n",
       " 0.9994382,\n",
       " 0.9994382,\n",
       " 0.9994382,\n",
       " 0.9994382,\n",
       " 0.9994382,\n",
       " 0.9994382,\n",
       " 0.9994382,\n",
       " 0.9994382,\n",
       " 0.9994382,\n",
       " 0.9994382,\n",
       " 0.9994382,\n",
       " 0.9994382,\n",
       " 0.9994382,\n",
       " 0.9994382,\n",
       " 0.9994382,\n",
       " 0.9994382,\n",
       " 0.9994382,\n",
       " 0.9994382,\n",
       " 0.9994382,\n",
       " 0.9994382,\n",
       " 0.9994382,\n",
       " 0.9994382,\n",
       " 0.9994382,\n",
       " 0.9994382,\n",
       " 0.9994382]"
      ]
     },
     "execution_count": 18,
     "metadata": {},
     "output_type": "execute_result"
    }
   ],
   "source": [
    "history.history['accuracy']"
   ]
  },
  {
   "cell_type": "code",
   "execution_count": null,
   "metadata": {},
   "outputs": [],
   "source": [
    "plt.plot(history.history['accuracy'])\n",
    "## ??? For some reason, this cell keeps killing my kernel!!"
   ]
  },
  {
   "cell_type": "code",
   "execution_count": 18,
   "metadata": {},
   "outputs": [],
   "source": [
    "def plot_graphs(history, string):\n",
    "    plt.plot(history.history[string])\n",
    "    plt.plot(history.history['val_' + string])\n",
    "    plt.xlabel(\"Epochs\")\n",
    "    plt.ylabel(string)\n",
    "    plt.legend([string, 'val_' + string])"
   ]
  },
  {
   "cell_type": "code",
   "execution_count": null,
   "metadata": {},
   "outputs": [],
   "source": [
    "plot_graphs(history, \"accuracy\")\n",
    "plot_graphs(history, \"loss\")"
   ]
  },
  {
   "cell_type": "code",
   "execution_count": null,
   "metadata": {},
   "outputs": [],
   "source": []
  }
 ],
 "metadata": {
  "kernelspec": {
   "display_name": "Python 3",
   "language": "python",
   "name": "python3"
  },
  "language_info": {
   "codemirror_mode": {
    "name": "ipython",
    "version": 3
   },
   "file_extension": ".py",
   "mimetype": "text/x-python",
   "name": "python",
   "nbconvert_exporter": "python",
   "pygments_lexer": "ipython3",
   "version": "3.7.4"
  }
 },
 "nbformat": 4,
 "nbformat_minor": 2
}
