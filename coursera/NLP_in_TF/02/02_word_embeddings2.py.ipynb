{
 "cells": [
  {
   "cell_type": "code",
   "execution_count": 1,
   "metadata": {},
   "outputs": [
    {
     "name": "stdout",
     "output_type": "stream",
     "text": [
      "2.0.0\n"
     ]
    }
   ],
   "source": [
    "import io\n",
    "\n",
    "import numpy as np\n",
    "import tensorflow as tf\n",
    "from tensorflow.keras.preprocessing.text import Tokenizer\n",
    "from tensorflow.keras.preprocessing.sequence import pad_sequences\n",
    "import tensorflow_datasets as tfds\n",
    "\n",
    "print(tf.__version__)"
   ]
  },
  {
   "cell_type": "code",
   "execution_count": 2,
   "metadata": {},
   "outputs": [],
   "source": [
    "imdb, info = tfds.load('imdb_reviews', with_info=True, as_supervised=True)"
   ]
  },
  {
   "cell_type": "code",
   "execution_count": 3,
   "metadata": {},
   "outputs": [],
   "source": [
    "train_data, test_data = imdb['train'], imdb['test']\n",
    "training_sentences = []\n",
    "training_labels = []\n",
    "testing_sentences = []\n",
    "testing_labels = []\n",
    "\n",
    "for sent, lab in train_data:\n",
    "    training_sentences.append(str(sent.numpy()))\n",
    "    training_labels.append(lab.numpy())\n",
    "for sent, lab in test_data:\n",
    "    testing_sentences.append(str(sent.numpy()))\n",
    "    testing_labels.append(lab.numpy())"
   ]
  },
  {
   "cell_type": "code",
   "execution_count": 4,
   "metadata": {},
   "outputs": [],
   "source": [
    "training_labels_final = np.array(training_labels)\n",
    "testing_labels_final = np.array(testing_labels)"
   ]
  },
  {
   "cell_type": "code",
   "execution_count": 5,
   "metadata": {},
   "outputs": [],
   "source": [
    "VOCAB_SIZE = 10000\n",
    "EMBEDDING_DIM = 16\n",
    "MAX_LEN = 120\n",
    "TRUNC_TYPE = 'post'\n",
    "OOV_TOK = '<OOV>'"
   ]
  },
  {
   "cell_type": "code",
   "execution_count": 6,
   "metadata": {},
   "outputs": [],
   "source": [
    "tokenizer = Tokenizer(num_words=VOCAB_SIZE, oov_token=OOV_TOK)\n",
    "tokenizer.fit_on_texts(training_sentences)\n",
    "word_index = tokenizer.word_index\n",
    "sequences = tokenizer.texts_to_sequences(training_sentences)\n",
    "padded = pad_sequences(sequences, maxlen=MAX_LEN, truncating=TRUNC_TYPE)\n",
    "testing_sequences = tokenizer.texts_to_sequences(testing_sentences)\n",
    "testing_padded = pad_sequences(testing_sequences, maxlen=MAX_LEN)"
   ]
  },
  {
   "cell_type": "code",
   "execution_count": 7,
   "metadata": {},
   "outputs": [],
   "source": [
    "reverse_word_index = {v: k for (k, v) in word_index.items()}"
   ]
  },
  {
   "cell_type": "code",
   "execution_count": 8,
   "metadata": {},
   "outputs": [],
   "source": [
    "def decode_review(text):\n",
    "    return ' '.join([reverse_word_index.get(i, '?') for i in text])"
   ]
  },
  {
   "cell_type": "code",
   "execution_count": 9,
   "metadata": {},
   "outputs": [
    {
     "name": "stdout",
     "output_type": "stream",
     "text": [
      "b oh yeah jenna jameson did it again yeah baby this movie rocks it was one of the 1st movies i saw of her and i have to say i feel in love with her she was great in this move br br her performance was outstanding and what i liked the most was the scenery and the wardrobe it was amazing you can tell that they put a lot into the movie the girls cloth were amazing br br i hope this comment helps and u can buy the movie the storyline is awesome is very unique and i'm sure u are going to like it jenna amazed us once more and no wonder the movie won so many\n",
      "b\"Oh yeah! Jenna Jameson did it again! Yeah Baby! This movie rocks. It was one of the 1st movies i saw of her. And i have to say i feel in love with her, she was great in this move.<br /><br />Her performance was outstanding and what i liked the most was the scenery and the wardrobe it was amazing you can tell that they put a lot into the movie the girls cloth were amazing.<br /><br />I hope this comment helps and u can buy the movie, the storyline is awesome is very unique and i'm sure u are going to like it. Jenna amazed us once more and no wonder the movie won so many awards. Her make-up and wardrobe is very very sexy and the girls on girls scene is amazing. specially the one where she looks like an angel. It's a must see and i hope u share my interests\"\n"
     ]
    }
   ],
   "source": [
    "print(decode_review(padded[1]))\n",
    "print(training_sentences[1])"
   ]
  },
  {
   "cell_type": "code",
   "execution_count": 10,
   "metadata": {},
   "outputs": [
    {
     "name": "stdout",
     "output_type": "stream",
     "text": [
      "Model: \"sequential\"\n",
      "_________________________________________________________________\n",
      "Layer (type)                 Output Shape              Param #   \n",
      "=================================================================\n",
      "embedding (Embedding)        (None, 120, 16)           160000    \n",
      "_________________________________________________________________\n",
      "flatten (Flatten)            (None, 1920)              0         \n",
      "_________________________________________________________________\n",
      "dense (Dense)                (None, 6)                 11526     \n",
      "_________________________________________________________________\n",
      "dense_1 (Dense)              (None, 1)                 7         \n",
      "=================================================================\n",
      "Total params: 171,533\n",
      "Trainable params: 171,533\n",
      "Non-trainable params: 0\n",
      "_________________________________________________________________\n"
     ]
    }
   ],
   "source": [
    "model = tf.keras.Sequential([\n",
    "    tf.keras.layers.Embedding(\n",
    "        VOCAB_SIZE, EMBEDDING_DIM, input_length=MAX_LEN),\n",
    "    tf.keras.layers.Flatten(),\n",
    "    tf.keras.layers.Dense(6, activation='relu'),\n",
    "    tf.keras.layers.Dense(1, activation='sigmoid')\n",
    "])\n",
    "\n",
    "model.compile(\n",
    "    loss='binary_crossentropy', optimzer='adam', metrics=['accuracy'])\n",
    "model.summary()"
   ]
  },
  {
   "cell_type": "code",
   "execution_count": 11,
   "metadata": {},
   "outputs": [],
   "source": [
    "EPOCHS = 10"
   ]
  },
  {
   "cell_type": "code",
   "execution_count": 12,
   "metadata": {},
   "outputs": [
    {
     "name": "stdout",
     "output_type": "stream",
     "text": [
      "Train on 25000 samples, validate on 25000 samples\n",
      "Epoch 1/10\n",
      "25000/25000 [==============================] - 8s 322us/sample - loss: 0.5393 - accuracy: 0.7158 - val_loss: 0.3717 - val_accuracy: 0.8350\n",
      "Epoch 2/10\n",
      "25000/25000 [==============================] - 7s 261us/sample - loss: 0.3078 - accuracy: 0.8680 - val_loss: 0.3451 - val_accuracy: 0.8462\n",
      "Epoch 3/10\n",
      "25000/25000 [==============================] - 7s 267us/sample - loss: 0.2282 - accuracy: 0.9096 - val_loss: 0.3586 - val_accuracy: 0.8442\n",
      "Epoch 4/10\n",
      "25000/25000 [==============================] - 7s 272us/sample - loss: 0.1566 - accuracy: 0.9440 - val_loss: 0.4115 - val_accuracy: 0.8272\n",
      "Epoch 5/10\n",
      "25000/25000 [==============================] - 7s 278us/sample - loss: 0.0891 - accuracy: 0.9736 - val_loss: 0.4911 - val_accuracy: 0.8190\n",
      "Epoch 6/10\n",
      "25000/25000 [==============================] - 7s 280us/sample - loss: 0.0432 - accuracy: 0.9888 - val_loss: 0.6053 - val_accuracy: 0.8066\n",
      "Epoch 7/10\n",
      "25000/25000 [==============================] - 7s 280us/sample - loss: 0.0186 - accuracy: 0.9962 - val_loss: 0.7160 - val_accuracy: 0.8026\n",
      "Epoch 8/10\n",
      "25000/25000 [==============================] - 7s 285us/sample - loss: 0.0079 - accuracy: 0.9983 - val_loss: 0.8561 - val_accuracy: 0.7994\n",
      "Epoch 9/10\n",
      "25000/25000 [==============================] - 7s 284us/sample - loss: 0.0027 - accuracy: 0.9993 - val_loss: 1.0166 - val_accuracy: 0.7942\n",
      "Epoch 10/10\n",
      "25000/25000 [==============================] - 7s 287us/sample - loss: 0.0013 - accuracy: 0.9997 - val_loss: 1.1721 - val_accuracy: 0.7937\n"
     ]
    },
    {
     "data": {
      "text/plain": [
       "<tensorflow.python.keras.callbacks.History at 0x646968210>"
      ]
     },
     "execution_count": 12,
     "metadata": {},
     "output_type": "execute_result"
    }
   ],
   "source": [
    "model.fit(padded, \n",
    "          training_labels_final, \n",
    "          epochs=EPOCHS, \n",
    "          validation_data=(testing_padded, testing_labels_final))"
   ]
  },
  {
   "cell_type": "code",
   "execution_count": 13,
   "metadata": {},
   "outputs": [
    {
     "name": "stdout",
     "output_type": "stream",
     "text": [
      "(10000, 16)\n"
     ]
    }
   ],
   "source": [
    "e = model.layers[0]\n",
    "weights = e.get_weights()[0]\n",
    "print(weights.shape)"
   ]
  },
  {
   "cell_type": "code",
   "execution_count": 14,
   "metadata": {},
   "outputs": [],
   "source": [
    "out_v = io.open('vecs.tsv', 'w', encoding='utf-8')\n",
    "out_m = io.open('meta.tsv', 'w', encoding='utf-8')\n",
    "for word_num in range(1, VOCAB_SIZE):\n",
    "    word = reverse_word_index[word_num]\n",
    "    embeddings = weights[word_num]\n",
    "    out_m.write(word + '\\n')\n",
    "    out_v.write('\\t'.join([str(x) for x in embeddings]) + '\\n')\n",
    "out_v.close()\n",
    "out_m.close()"
   ]
  },
  {
   "cell_type": "code",
   "execution_count": 15,
   "metadata": {},
   "outputs": [
    {
     "name": "stdout",
     "output_type": "stream",
     "text": [
      "-0.04745014\t0.0026025411\t0.05596583\t-0.059168953\t-0.06283121\t0.020616163\t-0.008357188\t-0.046138056\t0.05781578\t-0.057713524\t-0.053424075\t0.03596576\t0.0271413\t-0.03916733\t-0.040071506\t0.005358046\r\n",
      "-0.006396133\t-0.021437377\t-0.04599807\t0.06988949\t-0.047293503\t-0.032911733\t0.0002758297\t-0.018675473\t0.11079027\t-0.10474132\t-0.054565985\t0.10754361\t0.01289633\t0.0105396295\t-0.045670807\t0.07156635\r\n",
      "0.051415134\t-0.07951907\t-0.06899786\t0.006266695\t-0.0070972154\t0.06113209\t-0.004937467\t-0.040026344\t-0.036127765\t-0.044795144\t-0.06647143\t0.020407505\t0.01597408\t0.00060057343\t-0.019641155\t0.051893827\r\n",
      "-0.0067786705\t-0.00855262\t-0.05882022\t-0.010855984\t0.031774197\t0.09475773\t-0.08572399\t-0.000541135\t0.053499445\t-0.06679244\t0.0016534656\t0.073197715\t0.00010626367\t0.079385936\t-0.043730047\t-0.007807167\r\n",
      "-0.042936057\t0.0073939394\t0.036284443\t-0.01556435\t-0.046386458\t-0.0025273438\t-0.04802028\t0.03071915\t-0.056327276\t-0.05552082\t0.005739535\t0.1064435\t0.025701087\t-0.06717295\t-0.047799245\t0.034542147\r\n"
     ]
    }
   ],
   "source": [
    "!head -5 vecs.tsv"
   ]
  },
  {
   "cell_type": "code",
   "execution_count": 16,
   "metadata": {},
   "outputs": [
    {
     "name": "stdout",
     "output_type": "stream",
     "text": [
      "<OOV>\r\n",
      "the\r\n",
      "and\r\n",
      "a\r\n",
      "of\r\n"
     ]
    }
   ],
   "source": [
    "!head -5 meta.tsv"
   ]
  },
  {
   "cell_type": "code",
   "execution_count": 17,
   "metadata": {},
   "outputs": [
    {
     "data": {
      "text/plain": [
       "[[11],\n",
       " [],\n",
       " [1430],\n",
       " [968],\n",
       " [4],\n",
       " [1537],\n",
       " [1537],\n",
       " [4738],\n",
       " [],\n",
       " [790],\n",
       " [2015],\n",
       " [11],\n",
       " [2922],\n",
       " [2191],\n",
       " [],\n",
       " [790],\n",
       " [2015],\n",
       " [11],\n",
       " [579],\n",
       " [],\n",
       " [11],\n",
       " [579],\n",
       " [],\n",
       " [1382],\n",
       " [1221],\n",
       " [579],\n",
       " [790],\n",
       " [],\n",
       " [790],\n",
       " [2015],\n",
       " [968],\n",
       " [],\n",
       " [59],\n",
       " [968],\n",
       " [579],\n",
       " [790],\n",
       " [],\n",
       " [],\n",
       " [579],\n",
       " [2012],\n",
       " [968],\n",
       " [4],\n",
       " [1430],\n",
       " [],\n",
       " [790],\n",
       " [1005],\n",
       " [],\n",
       " [1382],\n",
       " [968],\n",
       " [579],\n",
       " [1221],\n",
       " [579],\n",
       " []]"
      ]
     },
     "execution_count": 17,
     "metadata": {},
     "output_type": "execute_result"
    }
   ],
   "source": [
    "sent = 'I really think this is just the best. swear to jesus.'\n",
    "seq = tokenizer.texts_to_sequences(sent)\n",
    "seq"
   ]
  },
  {
   "cell_type": "code",
   "execution_count": null,
   "metadata": {},
   "outputs": [],
   "source": []
  }
 ],
 "metadata": {
  "kernelspec": {
   "display_name": "Python 3",
   "language": "python",
   "name": "python3"
  },
  "language_info": {
   "codemirror_mode": {
    "name": "ipython",
    "version": 3
   },
   "file_extension": ".py",
   "mimetype": "text/x-python",
   "name": "python",
   "nbconvert_exporter": "python",
   "pygments_lexer": "ipython3",
   "version": "3.7.4"
  }
 },
 "nbformat": 4,
 "nbformat_minor": 2
}
